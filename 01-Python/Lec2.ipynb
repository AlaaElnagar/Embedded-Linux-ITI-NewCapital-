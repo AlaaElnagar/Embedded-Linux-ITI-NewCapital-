{
 "cells": [
  {
   "cell_type": "markdown",
   "metadata": {},
   "source": [
    "# Lec2\n"
   ]
  },
  {
   "cell_type": "markdown",
   "metadata": {},
   "source": [
    "## Strings "
   ]
  },
  {
   "cell_type": "code",
   "execution_count": 1,
   "metadata": {},
   "outputs": [
    {
     "name": "stdout",
     "output_type": "stream",
     "text": [
      "AlaaElnaggar\n",
      "Alaa'Elnaggar\n",
      "Alaa'Elnaggar\n"
     ]
    }
   ],
   "source": [
    "# printing of string \n",
    "print(\"AlaaElnaggar\")\n",
    "print('Alaa\\'Elnaggar')\n",
    "print('''Alaa\\'Elnaggar''')"
   ]
  },
  {
   "cell_type": "code",
   "execution_count": 2,
   "metadata": {},
   "outputs": [
    {
     "name": "stdout",
     "output_type": "stream",
     "text": [
      "ITI \n",
      "            \n",
      "            Embedded \n",
      "            \n",
      "            \n",
      "            Linux \n"
     ]
    }
   ],
   "source": [
    "# Printing of multiple Lines \n",
    "s = '''ITI \n",
    "            \n",
    "            Embedded \n",
    "            \n",
    "            \n",
    "            Linux '''\n",
    "print(s)"
   ]
  },
  {
   "cell_type": "code",
   "execution_count": 3,
   "metadata": {},
   "outputs": [
    {
     "name": "stdout",
     "output_type": "stream",
     "text": [
      "A\n",
      "Alaa\n",
      "12\n"
     ]
    }
   ],
   "source": [
    "Data = \"AlaaElnaggar\"\n",
    "# string is un changeable\n",
    "#Data[0] = 5   # error\n",
    "print(Data [0] )\n",
    "# slicing is applicable in string \n",
    "print(Data [0:4] )\n",
    "\n",
    "print(len(Data))\n"
   ]
  },
  {
   "cell_type": "markdown",
   "metadata": {},
   "source": [
    "## String Functis \n",
    "- strip  : responsible for removing first and last spaces BY default  \n",
    "-        : responsible for removing first and last argument  \n",
    "- lower  : Converting string into lowercase  \n",
    "- upper  : Converting string into uppercase  \n",
    "- replace : replace(\"A\" , \" B \")  --> replace any occurencc of A with b"
   ]
  },
  {
   "cell_type": "code",
   "execution_count": 4,
   "metadata": {},
   "outputs": [
    {
     "name": "stdout",
     "output_type": "stream",
     "text": [
      "AlaaElnaggar\n",
      "AlaaElnaggar\n",
      "Alaa      Elnaggar\n",
      " && && Alaa      Elnaggar      &&      \n"
     ]
    }
   ],
   "source": [
    "Data = \"                    AlaaElnaggar\"\n",
    "print(Data.strip() )\n",
    "\n",
    "Data = \"AlaaElnaggar            \"\n",
    "print(Data.strip() )\n",
    "\n",
    "Data = \"Alaa      Elnaggar            \"\n",
    "print(Data.strip() )\n",
    "\n",
    "Data = \"&& && && Alaa      Elnaggar      &&      &&\"\n",
    "print(Data.strip(\"&&\") )"
   ]
  },
  {
   "cell_type": "code",
   "execution_count": 5,
   "metadata": {},
   "outputs": [
    {
     "name": "stdout",
     "output_type": "stream",
     "text": [
      "                    alaaelnaggar\n",
      "                    ALAAELNAGGAR\n"
     ]
    }
   ],
   "source": [
    "Data = \"                    AlaaElnaggar\"\n",
    "print(Data.lower() )\n",
    "\n",
    "Data = \"                    AlaaElnaggar\"\n",
    "print(Data.upper() )"
   ]
  },
  {
   "cell_type": "code",
   "execution_count": 6,
   "metadata": {},
   "outputs": [
    {
     "name": "stdout",
     "output_type": "stream",
     "text": [
      "                    Al$$Eln$gg$r\n"
     ]
    }
   ],
   "source": [
    "Data = \"                    AlaaElnaggar\"\n",
    "print(Data.replace(\"a\" , \"$\") )"
   ]
  },
  {
   "cell_type": "code",
   "execution_count": 7,
   "metadata": {},
   "outputs": [
    {
     "name": "stdout",
     "output_type": "stream",
     "text": [
      "['Alaa-(Elnaggar)']\n",
      "[5]\n",
      "['Alaa', '(Elnaggar)']\n"
     ]
    }
   ],
   "source": [
    "Data = \"Alaa-(Elnaggar)\"\n",
    "Data = Data.split()   # return list \n",
    "print(Data)   # split the code and convert it into pieces of strings\n",
    "Data[0] = 5 \n",
    "print(Data)   \n",
    "\n",
    "Data = \"Alaa-(Elnaggar)\"\n",
    "print(Data.split(\"-\"))   # split the code and convert it into pieces \n",
    "# Data[0] = 5  # error \n",
    "# print(Data)  "
   ]
  },
  {
   "cell_type": "code",
   "execution_count": 8,
   "metadata": {},
   "outputs": [
    {
     "name": "stdout",
     "output_type": "stream",
     "text": [
      "True\n"
     ]
    }
   ],
   "source": [
    "\n",
    "code = '''.code\n",
    "demomain:\n",
    "  REPEAT 20\n",
    "\tswitch rv(nrandom, 9)\t; generate a number between 0 and 8\n",
    "\tmov ecx, 7\n",
    "\tcase 0\n",
    "\t\tprint \"case 0\"\n",
    "\tcase ecx\t\t\t\t; in contrast to most other programming languages,\n",
    "\t\tprint \"case 7\"\t\t; the Masm32 switch allows \"variable cases\"\n",
    "\tcase 1 .. 3\n",
    "\t\t.if eax==1\n",
    "\t\t\tprint \"case 1\"\n",
    "\t\t.elseif eax==2\n",
    "\t\t\tprint \"case 2\"\n",
    "\t\t.else\n",
    "\t\t\tprint \"cases 1 to 3: other\"\n",
    "\t\t.endif\n",
    "\tcase 4, 6, 8\n",
    "\t\tprint \"cases 4, 6 or 8\"\n",
    "\tdefault\n",
    "\t\tmov ebx, 19\t\t     ; print 20 stars\n",
    "\t\t.Repeat\n",
    "\t\t\tprint \"*\"\n",
    "\t\t\tdec ebx\n",
    "\t\t.Until Sign?\t\t ; loop until the sign flag is set\n",
    "\tendsw\n",
    "\tprint chr$(13, 10)\n",
    "  ENDM\n",
    "  exit\n",
    "end demomain'''\n",
    "Check_if_exist = \"mov\" in code\n",
    "\n",
    "print (Check_if_exist)"
   ]
  },
  {
   "cell_type": "code",
   "execution_count": 9,
   "metadata": {},
   "outputs": [
    {
     "name": "stdout",
     "output_type": "stream",
     "text": [
      "Start End \n"
     ]
    }
   ],
   "source": [
    "# String Concatination \n",
    "a = \"Start\" \n",
    "b = \" End \"\n",
    "c = a + b  # Operator overloading \n",
    "print (c) \n",
    "\n",
    "# a = \"Start\" \n",
    "# b = 5\n",
    "# c = a + b  # Will produce error operator overloading needs two string \n",
    "# print (c) "
   ]
  },
  {
   "cell_type": "code",
   "execution_count": 10,
   "metadata": {},
   "outputs": [
    {
     "name": "stdout",
     "output_type": "stream",
     "text": [
      "C = 10 , b = 20 , c = 30\n",
      "C = 30 , b = 20 , c = 10\n"
     ]
    }
   ],
   "source": [
    "# Injecting elements in an text \n",
    "A = 10  \n",
    "B = 20\n",
    "C = 30\n",
    "\n",
    "data =  (\"C = {} , b = {} , c = {}\" )\n",
    "print (data.format(A,B,C))\n",
    "\n",
    "\n",
    "data =  (\"C = {2} , b = {1} , c = {0}\" )\n",
    "print (data.format(A,B,C))\n",
    " \n",
    " "
   ]
  },
  {
   "cell_type": "code",
   "execution_count": 11,
   "metadata": {},
   "outputs": [
    {
     "name": "stdout",
     "output_type": "stream",
     "text": [
      "dlroW olleH\n",
      "drWolH\n",
      "dlr\n"
     ]
    }
   ],
   "source": [
    "# reversing of string \n",
    "txt = \"Hello World\"[::-1]\n",
    "print(txt)\n",
    "\n",
    "txt = \"Hello World\"[::-2]\n",
    "print(txt)\n",
    "\n",
    "txt = \"Hello World\"[-1:-4:-1]\n",
    "print(txt)"
   ]
  },
  {
   "cell_type": "code",
   "execution_count": 12,
   "metadata": {},
   "outputs": [
    {
     "name": "stdout",
     "output_type": "stream",
     "text": [
      "All****is****good\n"
     ]
    }
   ],
   "source": [
    "# Adding string to list \n",
    "data = [\"All\" , \"is\" , \"good\" ] \n",
    "data2 = \"****\".join(data)\n",
    "print(data2)\n"
   ]
  },
  {
   "cell_type": "code",
   "execution_count": 13,
   "metadata": {},
   "outputs": [
    {
     "name": "stdout",
     "output_type": "stream",
     "text": [
      "Hello_Hello_Hello_Hello_Hello_\n"
     ]
    }
   ],
   "source": [
    "# String douplication \n",
    "\n",
    "a = \"Hello_\" \n",
    "print(a*5)"
   ]
  },
  {
   "cell_type": "markdown",
   "metadata": {},
   "source": [
    "# Python string\n",
    "https://www.w3schools.com/python/python_ref_string.asp\n",
    "\n",
    "- capitalize()\tConverts the first character to upper case\n",
    "- casefold()\tConverts string into lower case\n",
    "- center()\tReturns a centered string\n",
    "- count()\tReturns the number of times a specified value occurs in a string\n",
    "- encode()\tReturns an encoded version of the string\n",
    "- endswith()\tReturns true if the string ends with the specified value\n",
    "- expandtabs()\tSets the tab size of the string\n",
    "- find()\tSearches the string for a specified value and returns the position of where it was found\n",
    "- format()\tFormats specified values in a string\n",
    "- format_map()\tFormats specified values in a string\n",
    "- index()\tSearches the string for a specified value and returns the position of where it was found\n",
    "- isalnum()\tReturns True if all characters in the string are alphanumeric\n",
    "- isalpha()\tReturns True if all characters in the string are in the alphabet\n",
    "- isascii()\tReturns True if all characters in the string are ascii characters\n",
    "- isdecimal()\tReturns True if all characters in the string are decimals\n",
    "- isdigit()\tReturns True if all characters in the string are digits\n",
    "- isidentifier()\tReturns True if the string is an identifier\n",
    "- islower()\tReturns True if all characters in the string are lower case\n",
    "- isnumeric()\tReturns True if all characters in the string are numeric\n",
    "- isprintable()\tReturns True if all characters in the string are printable\n",
    "- isspace()\tReturns True if all characters in the string are whitespaces\n",
    "- istitle()\tReturns True if the string follows the rules of a title\n",
    "- isupper()\tReturns True if all characters in the string are upper case\n",
    "- join()\tConverts the elements of an iterable into a string\n",
    "- ljust()\tReturns a left justified version of the string\n",
    "- lower()\tConverts a string into lower case\n",
    "- lstrip()\tReturns a left trim version of the string\n",
    "- maketrans()\tReturns a translation table to be used in translations\n",
    "- partition()\tReturns a tuple where the string is parted into three parts\n",
    "- replace()\tReturns a string where a specified value is replaced with a specified value\n",
    "- rfind()\tSearches the string for a specified value and returns the last position of where it was found\n",
    "- rindex()\tSearches the string for a specified value and returns the last position of where it was found\n",
    "- rjust()\tReturns a right justified version of the string\n",
    "- rpartition()\tReturns a tuple where the string is parted into three parts\n",
    "- rsplit()\tSplits the string at the specified separator, and returns a list\n",
    "- rstrip()\tReturns a right trim version of the string\n",
    "- split()\tSplits the string at the specified separator, and returns a list\n",
    "- splitlines()\tSplits the string at line breaks and returns a list\n",
    "- startswith()\tReturns true if the string starts with the specified value\n",
    "- strip()\tReturns a trimmed version of the string\n",
    "- swapcase()\tSwaps cases, lower case becomes upper case and vice versa\n",
    "- title()\tConverts the first character of each word to upper case\n",
    "- translate()\tReturns a translated string\n",
    "- upper()\tConverts a string into upper case\n",
    "- zfill()\tFills the string with a specified number of 0 values at the beginning"
   ]
  },
  {
   "cell_type": "code",
   "execution_count": null,
   "metadata": {},
   "outputs": [],
   "source": []
  },
  {
   "cell_type": "markdown",
   "metadata": {},
   "source": [
    "# Functions "
   ]
  },
  {
   "cell_type": "code",
   "execution_count": 14,
   "metadata": {},
   "outputs": [
    {
     "name": "stdout",
     "output_type": "stream",
     "text": [
      "My_Name is :AlaaElnaggar\n"
     ]
    }
   ],
   "source": [
    "def print_name (name ):\n",
    "    print (\"My_Name is :\" + name)\n",
    "    \n",
    "print_name(\"AlaaElnaggar\")"
   ]
  },
  {
   "cell_type": "code",
   "execution_count": 15,
   "metadata": {},
   "outputs": [
    {
     "name": "stdout",
     "output_type": "stream",
     "text": [
      "The sum is  is : 15\n"
     ]
    }
   ],
   "source": [
    "def sum (a , b ):\n",
    "    print (\"The sum is  is :\" , a+b)\n",
    "\n",
    "sum(5,10)"
   ]
  },
  {
   "cell_type": "code",
   "execution_count": 16,
   "metadata": {},
   "outputs": [
    {
     "name": "stdout",
     "output_type": "stream",
     "text": [
      "1\n",
      "AlaaElnaggar\n",
      "None\n"
     ]
    }
   ],
   "source": [
    "# function with return \n",
    "def func_1():\n",
    "    return 1 \n",
    "print(func_1())\n",
    "\n",
    "# by default the function return none \n",
    "\n",
    "def func_2():\n",
    "    print(\"AlaaElnaggar\")\n",
    "print(func_2())\n",
    "\n"
   ]
  },
  {
   "cell_type": "markdown",
   "metadata": {},
   "source": [
    "# Arbitrary Argument \n",
    "- This function receive tuble and give the ability to access it's arguments accordinglly \n",
    "Variable-length arguments, varargs for short, are arguments that can take an unspecified amount of input. When these are used, the programmer does not need to wrap the data in a list or an alternative sequence.\n",
    "\n",
    "- we can use"
   ]
  },
  {
   "cell_type": "code",
   "execution_count": 17,
   "metadata": {},
   "outputs": [
    {
     "name": "stdout",
     "output_type": "stream",
     "text": [
      "('Alaa', 'Yousef', 'Hamed', 'Elnaggar')\n",
      "<class 'tuple'>\n",
      "<class 'tuple'>\n",
      "Here is the input ('Alaa', 'Yousef', 'Hamed', 'Elnaggar')\n"
     ]
    }
   ],
   "source": [
    "# Variadic function \n",
    "# always return tuble  \n",
    "\n",
    "# always return tuble  \n",
    "# useful incase of unknown inputs \n",
    "\n",
    "def Variadic_Input(*Input):\n",
    "    print(Input)\n",
    "    x = Input\n",
    "    print(type(Input))\n",
    "    print(type(x))\n",
    "    print(\"Here is the input \"+str (x))\n",
    "\n",
    "Variadic_Input(\"Alaa\" ,\"Yousef\" ,  \"Hamed\" ,  \"Elnaggar\")"
   ]
  },
  {
   "cell_type": "code",
   "execution_count": 18,
   "metadata": {},
   "outputs": [
    {
     "name": "stdout",
     "output_type": "stream",
     "text": [
      "('foo', 'bar', 'baz')\n",
      "foo\n",
      "bar\n",
      "baz\n",
      "----------------\n",
      "()\n",
      "----------------\n",
      "('Hello', 'World')\n",
      "Hello\n",
      "World\n"
     ]
    }
   ],
   "source": [
    "# always return tuble  \n",
    "# very useful in parsing a list of string \n",
    "def f(*args):\n",
    "    print(args)\n",
    "    for arg in args:\n",
    "        print(arg)\n",
    "\n",
    "Data_record = []\n",
    "f(\"foo\", \"bar\", \"baz\")\n",
    "print(\"----------------\")\n",
    "f()\n",
    "print(\"----------------\")\n",
    "f(\"Hello\", \"World\")"
   ]
  },
  {
   "cell_type": "code",
   "execution_count": 19,
   "metadata": {},
   "outputs": [],
   "source": [
    "# Python binding  by object reference \n",
    "# How it works in python memory "
   ]
  },
  {
   "cell_type": "markdown",
   "metadata": {},
   "source": [
    "# passing unlimited dict to function \n",
    "## What is Python **kwargs\n",
    "- variable-length argument list. We use the name kwargs with the double star. \n",
    "- The reason is that the double star allows us to pass through keyword arguments (and any number of them).\n",
    "- A keyword argument is where you provide a name to the variable as you pass it into the function.\n",
    "- One can think of the kwargs as being a dictionary that maps each keyword to the value that we pass alongside it"
   ]
  },
  {
   "cell_type": "code",
   "execution_count": 20,
   "metadata": {},
   "outputs": [
    {
     "name": "stdout",
     "output_type": "stream",
     "text": [
      "serial1 == SPI\n",
      "serial2 == I2C\n",
      "serial3 == UART\n",
      "<class 'dict'>\n",
      "{'serial1': 'SPI', 'serial2': 'I2C', 'serial3': 'UART'}\n"
     ]
    }
   ],
   "source": [
    "\n",
    "def myFun(**kwargs):\n",
    "    for key, value in kwargs.items():\n",
    "        print(\"%s == %s\" % (key, value))\n",
    "    print(type(kwargs))\n",
    " \n",
    "# Driver code\n",
    "myFun(serial1='SPI', serial2='I2C', serial3='UART')\n",
    "Available_Serials  = {\"serial1\":\"SPI\", \"serial2\":\"I2C\", \"serial3\":\"UART\"}\n",
    "print(Available_Serials)\n",
    "# myFun(Available_Serials)  # will produce error The function will recive dict as element by element "
   ]
  },
  {
   "cell_type": "code",
   "execution_count": 21,
   "metadata": {},
   "outputs": [
    {
     "name": "stdout",
     "output_type": "stream",
     "text": [
      "The key: serial1  the data:   SPI\n",
      "The key: serial2  the data:   I2C\n",
      "The key: serial3  the data:   UART\n"
     ]
    }
   ],
   "source": [
    "#Function recive dict :  printing keys and value of dict \n",
    "\n",
    "def printdic(Data = \"Alaa\"):\n",
    "    for key in Data:\n",
    "        print(\"The key:\" , key , \" the data:  \" , Data[key] )   \n",
    "\n",
    "Available_Serials  = { \"serial1\":\"SPI\",\n",
    "                       \"serial2\":\"I2C\",\n",
    "                       \"serial3\":\"UART\"}\n",
    "printdic(Available_Serials)\n"
   ]
  },
  {
   "cell_type": "markdown",
   "metadata": {},
   "source": [
    "# function default argument "
   ]
  },
  {
   "cell_type": "code",
   "execution_count": 22,
   "metadata": {},
   "outputs": [
    {
     "name": "stdout",
     "output_type": "stream",
     "text": [
      "MyName is Elnaggar\n",
      "MyName is AlaaElnaggar\n"
     ]
    }
   ],
   "source": [
    "def PrintMyName (name = \"AlaaElnaggar\"):\n",
    "    print(\"MyName is \" + name  )\n",
    "\n",
    "PrintMyName(\"Elnaggar\")\n",
    "PrintMyName()   # default argument \n",
    "\n"
   ]
  },
  {
   "cell_type": "code",
   "execution_count": 23,
   "metadata": {},
   "outputs": [
    {
     "name": "stdout",
     "output_type": "stream",
     "text": [
      "------------DataList--------------\n",
      "1\n",
      "2\n",
      "3\n",
      "4\n",
      "5\n",
      "------------Data_Tuble------------\n",
      "a\n",
      "b\n",
      "c\n",
      "d\n",
      "e\n",
      "------------Data_str-------------\n",
      "A\n",
      "l\n",
      "a\n",
      "a\n",
      "E\n",
      "l\n",
      "n\n",
      "a\n",
      "g\n",
      "g\n",
      "a\n",
      "r\n",
      "------------End------------------\n"
     ]
    }
   ],
   "source": [
    "# Generic function to print any variable \n",
    "\n",
    "def Print_AnyPassedVariable(Data) : \n",
    "    for d1 in Data:\n",
    "        print(d1)\n",
    "\n",
    "Data_List = [1 , 2, 3 , 4 , 5]\n",
    "Data_Tuble= (\"a\" , \"b\" , \"c\" , \"d\" , \"e\") \n",
    "Data_str  = \"AlaaElnaggar\"\n",
    "print(\"------------DataList--------------\")\n",
    "Print_AnyPassedVariable(Data_List)\n",
    "print(\"------------Data_Tuble------------\")\n",
    "Print_AnyPassedVariable(Data_Tuble)\n",
    "print(\"------------Data_str-------------\")\n",
    "Print_AnyPassedVariable(Data_str)\n",
    "print(\"------------End------------------\")\n"
   ]
  },
  {
   "cell_type": "code",
   "execution_count": 24,
   "metadata": {},
   "outputs": [
    {
     "data": {
      "text/plain": [
       "5"
      ]
     },
     "execution_count": 24,
     "metadata": {},
     "output_type": "execute_result"
    }
   ],
   "source": [
    "def CAN_Module_Stub():\n",
    "    pass\n",
    "\n",
    "def BootloaderParser_stub():\n",
    "    return 5 \n",
    "\n",
    "CAN_Module_Stub()\n",
    "BootloaderParser_stub()"
   ]
  },
  {
   "cell_type": "markdown",
   "metadata": {},
   "source": [
    "# Lab to Make bitmath "
   ]
  },
  {
   "cell_type": "code",
   "execution_count": 25,
   "metadata": {},
   "outputs": [],
   "source": [
    "def SET_BIT(VAR,BIT):\n",
    "\tVAR = int(VAR)\n",
    "\tBIT = int(BIT)\n",
    "\tresult = VAR | (1 << BIT)\n",
    "\treturn result\n",
    "\t\n",
    "def CLR_BIT(VAR,BIT):\n",
    "\tVAR = int(VAR)\n",
    "\tBIT = int(BIT)\n",
    "\tresult = VAR & (~(1 << BIT))\n",
    "\treturn result\n",
    "\t\n",
    "def GET_BIT(VAR,BIT):\n",
    "\tVAR = int(VAR)\n",
    "\tBIT = int(BIT)\n",
    "\tresult = (VAR >> BIT) & 1\n",
    "\treturn result\n",
    "\t\n",
    "def TOG_BIT(VAR,BIT):\n",
    "\tVAR = int(VAR)\n",
    "\tBIT = int(BIT)\n",
    "\tresult =VAR ^ (1 << BIT) \n",
    "\treturn result\n"
   ]
  },
  {
   "cell_type": "markdown",
   "metadata": {},
   "source": [
    "# Global Keyword"
   ]
  },
  {
   "cell_type": "code",
   "execution_count": 26,
   "metadata": {},
   "outputs": [
    {
     "name": "stdout",
     "output_type": "stream",
     "text": [
      "100\n",
      "50\n",
      "50\n"
     ]
    }
   ],
   "source": [
    "Data = 100\n",
    "print(Data)\n",
    "\n",
    "def changeGlobal(Data_1):\n",
    "    global Data\n",
    "    Data  = Data_1\n",
    "    print(Data)\n",
    "\n",
    "changeGlobal(50)\n",
    "print(Data)\n",
    "\n",
    "       \n"
   ]
  },
  {
   "cell_type": "markdown",
   "metadata": {},
   "source": [
    "# Modules in python \n",
    "- User defined  : import math...import time ...\n",
    "- Builtin       : import <modulename>"
   ]
  },
  {
   "cell_type": "code",
   "execution_count": 27,
   "metadata": {},
   "outputs": [
    {
     "ename": "ModuleNotFoundError",
     "evalue": "No module named 'BIT_MATH'",
     "output_type": "error",
     "traceback": [
      "\u001b[1;31m---------------------------------------------------------------------------\u001b[0m",
      "\u001b[1;31mModuleNotFoundError\u001b[0m                       Traceback (most recent call last)",
      "\u001b[1;32md:\\ITI_Embedded_Linux\\01-Python\\Lec2.ipynb Cell 39\u001b[0m in \u001b[0;36m<cell line: 1>\u001b[1;34m()\u001b[0m\n\u001b[1;32m----> <a href='vscode-notebook-cell:/d%3A/ITI_Embedded_Linux/01-Python/Lec2.ipynb#X53sZmlsZQ%3D%3D?line=0'>1</a>\u001b[0m \u001b[39mimport\u001b[39;00m \u001b[39mBIT_MATH\u001b[39;00m\n\u001b[0;32m      <a href='vscode-notebook-cell:/d%3A/ITI_Embedded_Linux/01-Python/Lec2.ipynb#X53sZmlsZQ%3D%3D?line=1'>2</a>\u001b[0m REG \u001b[39m=\u001b[39m \u001b[39m5\u001b[39m \n\u001b[0;32m      <a href='vscode-notebook-cell:/d%3A/ITI_Embedded_Linux/01-Python/Lec2.ipynb#X53sZmlsZQ%3D%3D?line=2'>3</a>\u001b[0m BIT_MATH\u001b[39m.\u001b[39mSET_BIT(REG , \u001b[39m1\u001b[39m)\n",
      "\u001b[1;31mModuleNotFoundError\u001b[0m: No module named 'BIT_MATH'"
     ]
    }
   ],
   "source": [
    "import BIT_MATH\n",
    "REG = 5 \n",
    "BIT_MATH.SET_BIT(REG , 1)\n",
    "print (REG)"
   ]
  },
  {
   "cell_type": "code",
   "execution_count": null,
   "metadata": {},
   "outputs": [],
   "source": [
    "import My_info\n",
    "import BIT_MATH\n",
    "\n",
    "REG = 5 \n",
    "\n",
    "\n",
    "print (BIT_MATH.SET_BIT(REG , 1))\n",
    "\n",
    "print (My_info.CLR_BIT(REG , 1))\n",
    "# to print supported functions in the module\n",
    "dir(BIT_MATH)\n",
    "#My_info.PrintMyInfo(Data)\n"
   ]
  },
  {
   "cell_type": "code",
   "execution_count": null,
   "metadata": {},
   "outputs": [],
   "source": [
    "# Long name module import \n",
    "import  JJJJJJJJJJJJJJJJJJJJJJJJJJJJJJJJJJJJJJJJJJJJJJJJJJJJJJJJJJJJJJJJJJJJJJJJJJ as J_Module\n",
    "J_Module.printModuleName()"
   ]
  },
  {
   "cell_type": "code",
   "execution_count": null,
   "metadata": {},
   "outputs": [],
   "source": [
    "# builtin modules \n",
    "import platform\n",
    "# print system name \n",
    "platform.system()\n",
    "\n"
   ]
  },
  {
   "cell_type": "code",
   "execution_count": null,
   "metadata": {},
   "outputs": [],
   "source": [
    "# numpy \n",
    "import numpy\n",
    "\n",
    "arr1 = numpy.array([1,2,3])\n",
    "arr2 = numpy.array([[1,2,3] , [4,5,6]])\n",
    "arr3 = numpy.array([[1,2,3] , [4,5,6]])\n",
    "print(arr1)\n",
    "type(arr1)\n",
    "\n"
   ]
  },
  {
   "cell_type": "code",
   "execution_count": null,
   "metadata": {},
   "outputs": [],
   "source": []
  },
  {
   "cell_type": "code",
   "execution_count": null,
   "metadata": {},
   "outputs": [],
   "source": []
  },
  {
   "cell_type": "code",
   "execution_count": null,
   "metadata": {},
   "outputs": [],
   "source": []
  },
  {
   "cell_type": "code",
   "execution_count": null,
   "metadata": {},
   "outputs": [],
   "source": []
  },
  {
   "cell_type": "code",
   "execution_count": null,
   "metadata": {},
   "outputs": [],
   "source": [
    "def UsedCommunicationProtocol(**UsedCommunicationMethods): \n",
    "   print (\"The available :\" + UsedCommunicationMethods) \n",
    "\n",
    "UsedCommunicationProtocol(prot"
   ]
  },
  {
   "cell_type": "code",
   "execution_count": null,
   "metadata": {},
   "outputs": [],
   "source": []
  },
  {
   "cell_type": "code",
   "execution_count": null,
   "metadata": {},
   "outputs": [],
   "source": []
  },
  {
   "cell_type": "code",
   "execution_count": null,
   "metadata": {},
   "outputs": [],
   "source": []
  },
  {
   "cell_type": "code",
   "execution_count": null,
   "metadata": {},
   "outputs": [],
   "source": []
  },
  {
   "cell_type": "markdown",
   "metadata": {},
   "source": [
    "# Python architecture \n",
    "- bindig : linking between variable value in memory and the variable \n",
    "- python based on object reference \n",
    "- the binding to the variable is changed once the variable bindded to another variable \n",
    "- in , float , bool , tuble are mutable objects \n",
    "- binding can not be braked by .append function\n",
    "- garbage collector responsible for clearing of the broken un bindded memory sections which save memory location \n",
    "- id() :Return the “identity” of an object. This is an integer which is guaranteed to be unique and constant for this object during its lifetime.\n",
    "\n",
    "```\n",
    "   c_int \n",
    " ___________\n",
    "|           |   0x22940d0   This is what id() returns\n",
    "| metadata  | \n",
    "|           | \n",
    "|           | \n",
    "|           | \n",
    "|           | \n",
    "|___________| \n",
    "|   value   |   0x22940f8   This is what addressof() returns \n",
    "|___________| ```\n",
    "\n",
    "* The metadata in a Python object takes up space. Because of this, that 4-byte value probably won't live at the very beginning of the Python object.\n",
    "-   MetaData is a container object that keeps together many different features of a database\n",
    "\n"
   ]
  },
  {
   "cell_type": "code",
   "execution_count": null,
   "metadata": {},
   "outputs": [],
   "source": [
    "# Notes about python \n",
    "# Every thing in python is object \n",
    "# The variables are refered to the value \n",
    "\n",
    "a = [1 , 2 , 3]\n",
    "b = a\n",
    "# The variables are refered to the value\n",
    "print(b)\n",
    "a.append(1000)\n",
    "print(\"b1 = \" , b)\n",
    "print(\"a1 = \",a)\n",
    "print(id(a))\n",
    "print(id(b))\n",
    "\n",
    "# what to do if we need a just copy \n",
    "a = [1 , 2 , 3]\n",
    "b = a.copy()\n",
    "a.append(1000)\n",
    "print(\"b2 = \",b)\n",
    "print(\"a2 = \",a)\n",
    "\n",
    "# This identity has to be unique and constant for this object during the lifetime\n",
    "# memory address of an object in Python\n",
    "\n",
    "# import addressof and c_int modules \n",
    "# from ctypes module\n",
    "from ctypes import c_int, addressof\n",
    "a = 10 \n",
    "# get memory address of variable\n",
    "print(addressof(c_int(a)))\n",
    "print(id(a))\n",
    "\n",
    "# del a\n",
    "# print(id(a)) # will return error "
   ]
  },
  {
   "cell_type": "markdown",
   "metadata": {},
   "source": [
    "# File Handling \n",
    "## .CSV comma seperated file \n",
    "- Runs over OS \n",
    "\n",
    "usages :\n",
    "important in embedded systems legacy code to append main configuration parameters\n",
    "\n",
    "- The key function for working with files in Python is the open() function.\n",
    "\n",
    "- The open() function takes two parameters; filename, and mode:\n",
    "\n",
    "- \"r\" - Read - Default value. Opens a file for reading, error if the file does not exist\n",
    "\n",
    "- \"a\" - Append - Opens a file for appending, creates the file if it does not exist\n",
    "\n",
    "- \"w\" - Write - Opens a file for writing, creates the file if it does not exist\n",
    "\n",
    "- \"x\" - Create - Creates the specified file, returns an error if the file exists\n",
    "\n",
    "- \"t\" - Text - Default value. Text mode\n",
    "\n",
    "- \"b\" - Binary - Binary mode (e.g. images)\n"
   ]
  },
  {
   "cell_type": "code",
   "execution_count": 3,
   "metadata": {},
   "outputs": [
    {
     "ename": "FileNotFoundError",
     "evalue": "[Errno 2] No such file or directory: 'file1.txt'",
     "output_type": "error",
     "traceback": [
      "\u001b[1;31m---------------------------------------------------------------------------\u001b[0m",
      "\u001b[1;31mFileNotFoundError\u001b[0m                         Traceback (most recent call last)",
      "\u001b[1;32md:\\ITI_Embedded_Linux\\01-Python\\Lec2.ipynb Cell 56\u001b[0m in \u001b[0;36m<cell line: 2>\u001b[1;34m()\u001b[0m\n\u001b[0;32m      <a href='vscode-notebook-cell:/d%3A/ITI_Embedded_Linux/01-Python/Lec2.ipynb#Y106sZmlsZQ%3D%3D?line=0'>1</a>\u001b[0m \u001b[39m#f1 = open(\"file1.txt\" , \"x\")    # Create a new file  \u001b[39;00m\n\u001b[1;32m----> <a href='vscode-notebook-cell:/d%3A/ITI_Embedded_Linux/01-Python/Lec2.ipynb#Y106sZmlsZQ%3D%3D?line=1'>2</a>\u001b[0m f1 \u001b[39m=\u001b[39m \u001b[39mopen\u001b[39;49m(\u001b[39m\"\u001b[39;49m\u001b[39mfile1.txt\u001b[39;49m\u001b[39m\"\u001b[39;49m , \u001b[39m\"\u001b[39;49m\u001b[39mr\u001b[39;49m\u001b[39m\"\u001b[39;49m)    \u001b[39m# open a new file to read it \u001b[39;00m\n\u001b[0;32m      <a href='vscode-notebook-cell:/d%3A/ITI_Embedded_Linux/01-Python/Lec2.ipynb#Y106sZmlsZQ%3D%3D?line=2'>3</a>\u001b[0m \u001b[39mprint\u001b[39m(f1\u001b[39m.\u001b[39mread())\n\u001b[0;32m      <a href='vscode-notebook-cell:/d%3A/ITI_Embedded_Linux/01-Python/Lec2.ipynb#Y106sZmlsZQ%3D%3D?line=3'>4</a>\u001b[0m \u001b[39mprint\u001b[39m(\u001b[39mtype\u001b[39m (f1\u001b[39m.\u001b[39mread()))\n",
      "\u001b[1;31mFileNotFoundError\u001b[0m: [Errno 2] No such file or directory: 'file1.txt'"
     ]
    }
   ],
   "source": [
    "#f1 = open(\"file1.txt\" , \"x\")    # Create a new file  \n",
    "f1 = open(\"file1.txt\" , \"r\")    # open a new file to read it \n",
    "print(f1.read())\n",
    "print(type (f1.read()))"
   ]
  },
  {
   "cell_type": "code",
   "execution_count": 30,
   "metadata": {},
   "outputs": [
    {
     "name": "stdout",
     "output_type": "stream",
     "text": [
      "Alaa\n"
     ]
    }
   ],
   "source": [
    "# opening file with abslute path \n",
    "f1 = open(\"D:\\\\ITI_Embedded_Linux\\\\01-Python\\\\02-Lec2\\\\file1.txt\", \"r\")    # open a new file to read it \n",
    "#print(f1.read())\n",
    "print(f1.read(4))   # read the first four char\n"
   ]
  },
  {
   "cell_type": "code",
   "execution_count": 2,
   "metadata": {},
   "outputs": [
    {
     "ename": "FileNotFoundError",
     "evalue": "[Errno 2] No such file or directory: 'file1.txt'",
     "output_type": "error",
     "traceback": [
      "\u001b[1;31m---------------------------------------------------------------------------\u001b[0m",
      "\u001b[1;31mFileNotFoundError\u001b[0m                         Traceback (most recent call last)",
      "\u001b[1;32md:\\ITI_Embedded_Linux\\01-Python\\Lec2.ipynb Cell 58\u001b[0m in \u001b[0;36m<cell line: 2>\u001b[1;34m()\u001b[0m\n\u001b[0;32m      <a href='vscode-notebook-cell:/d%3A/ITI_Embedded_Linux/01-Python/Lec2.ipynb#Y111sZmlsZQ%3D%3D?line=0'>1</a>\u001b[0m \u001b[39m# reading file line by line \u001b[39;00m\n\u001b[1;32m----> <a href='vscode-notebook-cell:/d%3A/ITI_Embedded_Linux/01-Python/Lec2.ipynb#Y111sZmlsZQ%3D%3D?line=1'>2</a>\u001b[0m f1 \u001b[39m=\u001b[39m \u001b[39mopen\u001b[39;49m(\u001b[39m\"\u001b[39;49m\u001b[39mfile1.txt\u001b[39;49m\u001b[39m\"\u001b[39;49m , \u001b[39m\"\u001b[39;49m\u001b[39mr\u001b[39;49m\u001b[39m\"\u001b[39;49m)\n",
      "\u001b[1;31mFileNotFoundError\u001b[0m: [Errno 2] No such file or directory: 'file1.txt'"
     ]
    }
   ],
   "source": [
    "# reading file line by line \n",
    "f1 = open(\"file1.txt\" , \"r\")    # open a new file to read it \n",
    "#print(f1.readline())\n"
   ]
  }
 ],
 "metadata": {
  "kernelspec": {
   "display_name": "Python 3.9.1rc1 64-bit",
   "language": "python",
   "name": "python3"
  },
  "language_info": {
   "codemirror_mode": {
    "name": "ipython",
    "version": 3
   },
   "file_extension": ".py",
   "mimetype": "text/x-python",
   "name": "python",
   "nbconvert_exporter": "python",
   "pygments_lexer": "ipython3",
   "version": "3.9.1rc1"
  },
  "orig_nbformat": 4,
  "vscode": {
   "interpreter": {
    "hash": "43623726d6407856152d67d5465a38392b5160cd189b98f2f24e14daccd05be9"
   }
  }
 },
 "nbformat": 4,
 "nbformat_minor": 2
}
