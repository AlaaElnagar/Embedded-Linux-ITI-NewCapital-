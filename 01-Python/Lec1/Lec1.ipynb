{
 "cells": [
  {
   "cell_type": "markdown",
   "id": "334e70fe",
   "metadata": {},
   "source": [
    "## Introduction"
   ]
  },
  {
   "cell_type": "markdown",
   "id": "26328eb1",
   "metadata": {},
   "source": [
    "## History of python \n"
   ]
  },
  {
   "cell_type": "code",
   "execution_count": null,
   "id": "26d96a00",
   "metadata": {},
   "outputs": [],
   "source": [
    "from IPython import display\n",
    "display.Image(\"img/n1.jpg\")\n"
   ]
  },
  {
   "cell_type": "code",
   "execution_count": null,
   "id": "81cbda09",
   "metadata": {},
   "outputs": [],
   "source": [
    "from IPython import display\n",
    "display.Image(\"img/van.jpg\")"
   ]
  },
  {
   "cell_type": "markdown",
   "id": "f337046e",
   "metadata": {},
   "source": [
    "### Python laid its foundation in the late 1980s. \n",
    "### The implementation of Python was started in December 1989 by Guido Van Rossum in Netherland.\n",
    "### Python 2.0 added new features such as list comprehensions, garbage collection systems.\n",
    "### It can be treated in a procedural way, an object-oriented way or a functional way\n",
    "### Python is an interpreted programming language, this means that as a developer\n",
    "### you write Python (.py) files in a text editor and then put those files into the python\n",
    "### interpreter to be executed"
   ]
  },
  {
   "cell_type": "markdown",
   "id": "e5c3cbf8",
   "metadata": {},
   "source": [
    "## Main usages of python \n",
    " \n"
   ]
  },
  {
   "cell_type": "markdown",
   "id": "88ef4ce3",
   "metadata": {},
   "source": [
    "#### Desktop Applications\n",
    "#### Web Applications  \n",
    "#### Data Science\n",
    "#### Artificial Intelligence  \n",
    "#### Machine Learning    \n",
    "#### Scientific Computing  \n",
    "#### Robotics   \n",
    "#### Internet of Things (IoT) \n",
    "#### Gaming \n",
    "#### Mobile Apps\n",
    "#### Data Analysis and Preprocessing\n"
   ]
  },
  {
   "cell_type": "markdown",
   "id": "a1453b7f",
   "metadata": {},
   "source": [
    "# Roles of Python in Real-time Embedded Systems\n",
    "\n",
    "\n",
    "## Role 1 – Device control and debugging\n",
    "\n",
    "- analyzing bus traffic such as USB, SPI or I2C. \n",
    "- control the bus analyzer and send messages to the embedded system.\n",
    "-  control the tool but they also normally provide a way to develop scripts that can be used to control the tool as well.\n",
    "-  Python is one scripting languages that is normally supported, sometimes exclusively, to interface with and control the tool.\n",
    "\n",
    "![](./img/frames.jpg)                                          ![](./img/frames2.jpg)\n",
    "\n",
    "\n",
    "\n",
    "\n",
    "##  Role 2 – Automating testing\n",
    "\n",
    "- ability to control tools that can send and receive messages from an embedded system through Python. \n",
    "- using Python to create automated tests that include regression testing.\n",
    "- Python scripts can be developed that set the embedded system into different states.\n",
    "- One advantage to using Python for automated testing is that regression tests can be developed that constantly test and exercise the system. Any code changes that result in bugs or non-conformances will be immediately discovered.\n",
    "\n",
    "## Role 3 – Data analysis\n",
    "\n",
    "- used to receive critical embedded system data that can then be stored in database or locally for analysis.\n",
    "- Developers can use Python to develop real-time visualizations that show critical parameters for later analysis. \n",
    "\n",
    "##  Role 4 – Real-time Software\n",
    "\n",
    "- used in Real-Time ES through Micro Python port is designed to run on microcontrollers such as the ARM Cortex-M3/4.\n",
    "-  Micro Python is not alone though. Companies such as Synapse and OpenMV are using either Micro Python or their own Python port within embedded systems. \n",
    "\n",
    "<img src=\"./img/mc.png\" width=\"400\" height=\"400\" />\n"
   ]
  },
  {
   "cell_type": "markdown",
   "id": "859d768c",
   "metadata": {},
   "source": [
    "# What is interperter\n",
    "- https://www.youtube.com/watch?v=e4ax90XmUBc\n",
    "\n",
    "\n",
    "![](./img/interpeter.jpg)  \n",
    "\n"
   ]
  },
  {
   "cell_type": "code",
   "execution_count": null,
   "id": "4fdfb8e5",
   "metadata": {},
   "outputs": [],
   "source": [
    "# printing hello world \n",
    "print(\"Hello world \") "
   ]
  },
  {
   "cell_type": "code",
   "execution_count": null,
   "id": "9332f8fe",
   "metadata": {},
   "outputs": [],
   "source": [
    "'''In python string is represented between\n",
    "double quotation “ This is a string “ or\n",
    "single quotation ‘ This is also a string ’'''\n",
    "print('This is also a string') "
   ]
  },
  {
   "cell_type": "markdown",
   "id": "048f192a",
   "metadata": {},
   "source": [
    "## Lab1 \n",
    "Write a python code that will print your short \\\n",
    "biography. \\\n",
    "Full Name, Birth Year, Faculty, and \\\n",
    "graduation year "
   ]
  },
  {
   "cell_type": "code",
   "execution_count": null,
   "id": "d63059cd",
   "metadata": {},
   "outputs": [],
   "source": [
    "print (\"I'm AlaaElnaggar\") \n",
    "print (\"My birth date is 10/4/1995\") \n",
    "print (\"I'm Graduated from HTI, Mechatronics engineering 2018\") \n"
   ]
  },
  {
   "cell_type": "markdown",
   "id": "f1ebbe20",
   "metadata": {},
   "source": [
    "# Variables in python \n",
    "Variable is a part from the memory, used to hold a piece of data. \\\n",
    "• Unlike other programming languages, Python has no command for declaring a\n",
    "variable. A variable is created the moment you first assign a value to it"
   ]
  },
  {
   "cell_type": "code",
   "execution_count": null,
   "id": "b385835a",
   "metadata": {},
   "outputs": [],
   "source": [
    "num_1 = 100 \n",
    "MyName=\"AlaaElnaggar\"\n",
    "print(num_1)\n",
    "print(MyName)"
   ]
  },
  {
   "cell_type": "markdown",
   "id": "572a06bb",
   "metadata": {},
   "source": [
    "## Note\n",
    "Variables do not need to be\n",
    "declared with any particular\n",
    "type and can even change type\n",
    "after they have been set"
   ]
  },
  {
   "cell_type": "code",
   "execution_count": null,
   "id": "b4b2ef1a",
   "metadata": {},
   "outputs": [],
   "source": [
    "num_1 = 100 \n",
    "MyName=\"AlaaElnaggar\"\n",
    "num_1 = \"AlaaElnaggar\" \n",
    "MyName=100 \n",
    "print(num_1)\n",
    "print(MyName)"
   ]
  },
  {
   "cell_type": "markdown",
   "id": "a8fd4330",
   "metadata": {},
   "source": [
    "## Variable naming rules:\n",
    "Variable naming rules in Python: \\\n",
    "◆ A variable name must start with a letter or the underscore character \\\n",
    "◆ A variable name cannot start with a number \\\n",
    "◆ A variable name can only contain alphanumeric characters and \\\n",
    "underscores (A-z, 0-9, and _ ) \\\n",
    "◆ Variable names are case-sensitive (age, Age and AGE are three different \\\n",
    "variables)"
   ]
  },
  {
   "cell_type": "markdown",
   "id": "ee7cdcba",
   "metadata": {},
   "source": [
    "\n",
    "\n"
   ]
  },
  {
   "cell_type": "markdown",
   "id": "a396e95b",
   "metadata": {},
   "source": [
    "### Using comma operator to define multiple variables in same line:"
   ]
  },
  {
   "cell_type": "code",
   "execution_count": 21,
   "id": "7728d8d3",
   "metadata": {},
   "outputs": [
    {
     "name": "stdout",
     "output_type": "stream",
     "text": [
      "First number is 3 and second number is 4\n"
     ]
    }
   ],
   "source": [
    "\n",
    "A,B,F,S = 1 , 2 , 3 , 4\n",
    "\n",
    "print('First number is %d and second number is %d' % (F, S)) \n"
   ]
  },
  {
   "cell_type": "markdown",
   "id": "4594ad07",
   "metadata": {},
   "source": [
    "## Methods of injecting variables in string "
   ]
  },
  {
   "cell_type": "code",
   "execution_count": 22,
   "id": "fd60dd1d",
   "metadata": {},
   "outputs": [
    {
     "name": "stdout",
     "output_type": "stream",
     "text": [
      "First number is 3 and second number is 4\n",
      "First number is 5 and number is 10\n",
      "First number is 5 second number is 10\n",
      "First number 5 and second number is 10\n",
      "First number is 5 second number is 5\n"
     ]
    }
   ],
   "source": [
    "F,S = 5 ,10\n",
    "A,B = 3,4\n",
    "# Method 1 \n",
    "print(\"First number is {} and second number is {}\".format(A, B))\n",
    "# Method 2\n",
    "print(\"First number is {first} and number is {second}\".format(first=F, second=S)) \n",
    "# Method 3\n",
    "print('First number is', F, 'second number is', S) \n",
    "# Method 4\n",
    "print('First number %d and second number is %d' % (F, S))\n",
    "# Method 5\n",
    "print('First number is ' + str(F) + ' second number is '+ str(F))"
   ]
  },
  {
   "cell_type": "markdown",
   "id": "a0754d2d",
   "metadata": {},
   "source": [
    "# Input output "
   ]
  },
  {
   "cell_type": "code",
   "execution_count": 30,
   "id": "6cbc9137",
   "metadata": {},
   "outputs": [
    {
     "ename": "TypeError",
     "evalue": "%d format: a number is required, not str",
     "output_type": "error",
     "traceback": [
      "\u001b[1;31m---------------------------------------------------------------------------\u001b[0m",
      "\u001b[1;31mTypeError\u001b[0m                                 Traceback (most recent call last)",
      "\u001b[1;32md:\\ITI_Embedded_Linux\\Python\\Lec1\\Lec1.ipynb Cell 25\u001b[0m in \u001b[0;36m<cell line: 2>\u001b[1;34m()\u001b[0m\n\u001b[0;32m      <a href='vscode-notebook-cell:/d%3A/ITI_Embedded_Linux/Python/Lec1/Lec1.ipynb#X33sZmlsZQ%3D%3D?line=0'>1</a>\u001b[0m MyName \u001b[39m=\u001b[39m \u001b[39minput\u001b[39m (\u001b[39m\"\u001b[39m\u001b[39mPlease Enter your name \u001b[39m\u001b[39m\"\u001b[39m) \n\u001b[1;32m----> <a href='vscode-notebook-cell:/d%3A/ITI_Embedded_Linux/Python/Lec1/Lec1.ipynb#X33sZmlsZQ%3D%3D?line=1'>2</a>\u001b[0m \u001b[39mprint\u001b[39m (\u001b[39m\"\u001b[39;49m\u001b[39mMy name is \u001b[39;49m\u001b[39m%d\u001b[39;49;00m\u001b[39m\"\u001b[39;49m \u001b[39m%\u001b[39;49m(MyName))\n",
      "\u001b[1;31mTypeError\u001b[0m: %d format: a number is required, not str"
     ]
    }
   ],
   "source": [
    "MyName = input (\"Please Enter your name \") \n",
    "print (\"My name is %d\" %(MyName))"
   ]
  },
  {
   "cell_type": "code",
   "execution_count": null,
   "id": "be6528d0",
   "metadata": {},
   "outputs": [],
   "source": []
  },
  {
   "cell_type": "markdown",
   "id": "0046f0e8",
   "metadata": {},
   "source": [
    "# Lab2 \n",
    "Write a python code that ask about your name , age , facaulity "
   ]
  },
  {
   "cell_type": "markdown",
   "id": "e5342a83",
   "metadata": {},
   "source": [
    "# Receiving more than one variable \n",
    " need to take the multiple inputs in a single line\n",
    "\n",
    " The split() method is useful for getting multiple inputs from users. The syntax is given below.\n",
    "\n",
    "Syntax -\n",
    "\n",
    "input().split(separator, maxsplit)  \n",
    "The split() method is used to split the Python string, but we can use it to get the multiple values.\n",
    "\n",
    "# Why\n",
    "Very useful in embedded systems parsing of the records for the code from another file specifically in Bootloader  "
   ]
  },
  {
   "cell_type": "code",
   "execution_count": 38,
   "id": "3a74190c",
   "metadata": {},
   "outputs": [
    {
     "ename": "ValueError",
     "evalue": "too many values to unpack (expected 4)",
     "output_type": "error",
     "traceback": [
      "\u001b[1;31m---------------------------------------------------------------------------\u001b[0m",
      "\u001b[1;31mValueError\u001b[0m                                Traceback (most recent call last)",
      "\u001b[1;32md:\\ITI_Embedded_Linux\\Python\\Lec1\\Lec1.ipynb Cell 28\u001b[0m in \u001b[0;36m<cell line: 19>\u001b[1;34m()\u001b[0m\n\u001b[0;32m      <a href='vscode-notebook-cell:/d%3A/ITI_Embedded_Linux/Python/Lec1/Lec1.ipynb#X36sZmlsZQ%3D%3D?line=0'>1</a>\u001b[0m \u001b[39m# taking two inputs at a time  \u001b[39;00m\n\u001b[0;32m      <a href='vscode-notebook-cell:/d%3A/ITI_Embedded_Linux/Python/Lec1/Lec1.ipynb#X36sZmlsZQ%3D%3D?line=1'>2</a>\u001b[0m \u001b[39m# a, b, c = input(\"Enter three values: \").split(\"M\",3)  \u001b[39;00m\n\u001b[0;32m      <a href='vscode-notebook-cell:/d%3A/ITI_Embedded_Linux/Python/Lec1/Lec1.ipynb#X36sZmlsZQ%3D%3D?line=2'>3</a>\u001b[0m \u001b[39m# print(\"val1: \", a)  \u001b[39;00m\n\u001b[1;32m   (...)\u001b[0m\n\u001b[0;32m     <a href='vscode-notebook-cell:/d%3A/ITI_Embedded_Linux/Python/Lec1/Lec1.ipynb#X36sZmlsZQ%3D%3D?line=16'>17</a>\u001b[0m    \n\u001b[0;32m     <a href='vscode-notebook-cell:/d%3A/ITI_Embedded_Linux/Python/Lec1/Lec1.ipynb#X36sZmlsZQ%3D%3D?line=17'>18</a>\u001b[0m \u001b[39m# taking four inputs at a time with white space \u001b[39;00m\n\u001b[1;32m---> <a href='vscode-notebook-cell:/d%3A/ITI_Embedded_Linux/Python/Lec1/Lec1.ipynb#X36sZmlsZQ%3D%3D?line=18'>19</a>\u001b[0m a, b, c, d \u001b[39m=\u001b[39m \u001b[39minput\u001b[39m(\u001b[39m\"\u001b[39m\u001b[39mEnter four values: \u001b[39m\u001b[39m\"\u001b[39m)  \n\u001b[0;32m     <a href='vscode-notebook-cell:/d%3A/ITI_Embedded_Linux/Python/Lec1/Lec1.ipynb#X36sZmlsZQ%3D%3D?line=19'>20</a>\u001b[0m \u001b[39mprint\u001b[39m(\u001b[39m\"\u001b[39m\u001b[39mFirst number is \u001b[39m\u001b[39m{}\u001b[39;00m\u001b[39m, second number is \u001b[39m\u001b[39m{}\u001b[39;00m\u001b[39m third is \u001b[39m\u001b[39m{}\u001b[39;00m\u001b[39m and fourth is \u001b[39m\u001b[39m{}\u001b[39;00m\u001b[39m\"\u001b[39m\u001b[39m.\u001b[39mformat(a, b, c, d))\n",
      "\u001b[1;31mValueError\u001b[0m: too many values to unpack (expected 4)"
     ]
    }
   ],
   "source": [
    "# taking two inputs at a time  \n",
    "# a, b, c = input(\"Enter three values: \").split(\"M\",3)  \n",
    "# print(\"val1: \", a)  \n",
    "# print(\"val1: \", b)  \n",
    "# print(\"val1: \", c)  \n",
    "\n",
    "# print(\"Enter Your Last Name: \", b)  \n",
    "# print(\"Enter Your Class: \", c)  \n",
    "# print()  \n",
    "   \n",
    "# # taking three inputs at a time  \n",
    "# x, y, z = input(\"Enter three values: \").split(\"p\",3)  \n",
    "# print(\"Total number of students: \", x)  \n",
    "# print(\"Number of passed student : \", y)  \n",
    "# print(\"Number of failed student : \", z)  \n",
    "\n",
    "   \n",
    "# taking four inputs at a time with white space \n",
    "a, b, c, d = input(\"Enter four values: \").split()  \n",
    "print(\"First number is {}, second number is {} third is {} and fourth is {}\".format(a, b, c, d))  \n",
    "# print()  "
   ]
  },
  {
   "cell_type": "markdown",
   "id": "86a4e8b5",
   "metadata": {},
   "source": [
    "# Type Cating in python \n",
    "#### • int() - constructs an integer number from an integer literal, a float literal (by\n",
    "#### rounding down to the previous whole number), or a string literal (providing the\n",
    "#### string represents a whole number)\n",
    "#### • float() - constructs a float number from an integer literal, a float literal or a string\n",
    "#### literal (providing the string represents a float or an integer)\n",
    "#### • str() - constructs a string from a wide variety of data types, including strings,\n",
    "#### integer literals and float literals"
   ]
  },
  {
   "cell_type": "code",
   "execution_count": 39,
   "id": "37d0bc91",
   "metadata": {},
   "outputs": [
    {
     "name": "stdout",
     "output_type": "stream",
     "text": [
      "100\n",
      "100\n",
      "100.0\n",
      "65\n"
     ]
    }
   ],
   "source": [
    "x = int(\"100\")\n",
    "print (x)\n",
    "x = str (100)\n",
    "print (x)\n",
    "x = float (100)\n",
    "print (x)\n",
    "# printing asci value \n",
    "x=ord('A') \n",
    "print (x)\n"
   ]
  },
  {
   "cell_type": "markdown",
   "id": "5bf7f232",
   "metadata": {},
   "source": [
    "# Operators in python "
   ]
  },
  {
   "cell_type": "code",
   "execution_count": 40,
   "id": "f3366190",
   "metadata": {},
   "outputs": [
    {
     "name": "stdout",
     "output_type": "stream",
     "text": [
      "110\n",
      "70\n",
      "1800\n",
      "4.5\n",
      "1215766545905692880100000000000000000000\n",
      "4\n",
      "10\n"
     ]
    }
   ],
   "source": [
    "# Arithmatic operators \n",
    "a = 90\n",
    "b = 20\n",
    "#additaddition \n",
    "print(a+b)\n",
    "#subtraction\n",
    "print(a-b)\n",
    "#multiplication\n",
    "print(a*b)\n",
    "#divison\n",
    "print(a/b)\n",
    "#Exponentiation\n",
    "print(a**b)\n",
    "#floor divison\n",
    "print(a//b)\n",
    "#Modulas\n",
    "print(a%b)"
   ]
  },
  {
   "cell_type": "code",
   "execution_count": 41,
   "id": "b122efb4",
   "metadata": {},
   "outputs": [
    {
     "name": "stdout",
     "output_type": "stream",
     "text": [
      "False\n",
      "True\n",
      "True\n",
      "True\n",
      "False\n",
      "False\n"
     ]
    }
   ],
   "source": [
    "# relational operators \n",
    "a = 5\n",
    "b = 10\n",
    "\n",
    "print(a == b)  #return False\n",
    "print(a != b)  #return True\n",
    "print(a < b)   #return True\n",
    "print(a <= b)  #return True\n",
    "print(a > b)   #return False\n",
    "print(a >= b)  #return False"
   ]
  },
  {
   "cell_type": "code",
   "execution_count": 42,
   "id": "ba8aae8d",
   "metadata": {},
   "outputs": [
    {
     "name": "stdout",
     "output_type": "stream",
     "text": [
      "Line 1 - Value of c is  12\n",
      "Line 2 - Value of c is  61\n",
      "Line 3 - Value of c is  49\n",
      "Line 4 - Value of c is  -61\n",
      "Line 5 - Value of c is  240\n",
      "Line 6 - Value of c is  15\n"
     ]
    }
   ],
   "source": [
    "# Bitwise operators in python \n",
    "\n",
    "a = 60            # 60 = 0011 1100 \n",
    "b = 13            # 13 = 0000 1101 \n",
    "c = 0\n",
    "\n",
    "c = a & b;        # 12 = 0000 1100\n",
    "print (\"Line 1 - Value of c is \", c)\n",
    "\n",
    "c = a | b;        # 61 = 0011 1101 \n",
    "print (\"Line 2 - Value of c is \", c)\n",
    "\n",
    "c = a ^ b;        # 49 = 0011 0001\n",
    "print (\"Line 3 - Value of c is \", c)\n",
    "\n",
    "c = ~a;           # -61 = 1100 0011\n",
    "print (\"Line 4 - Value of c is \", c)\n",
    "\n",
    "c = a << 2;       # 240 = 1111 0000\n",
    "print (\"Line 5 - Value of c is \", c)\n",
    "\n",
    "c = a >> 2;       # 15 = 0000 1111\n",
    "print (\"Line 6 - Value of c is \", c)"
   ]
  },
  {
   "cell_type": "code",
   "execution_count": 43,
   "id": "06f8229a",
   "metadata": {},
   "outputs": [
    {
     "name": "stdout",
     "output_type": "stream",
     "text": [
      "10\n",
      "20\n",
      "10\n",
      "100\n",
      "102400\n"
     ]
    }
   ],
   "source": [
    "\n",
    "# Assignment Operators\n",
    "a = 10\n",
    " \n",
    "# Assign value\n",
    "b = a\n",
    "print(b)\n",
    " \n",
    "# Add and assign value\n",
    "b += a\n",
    "print(b)\n",
    " \n",
    "# Subtract and assign value\n",
    "b -= a\n",
    "print(b)\n",
    " \n",
    "# multiply and assign\n",
    "b *= a\n",
    "print(b)\n",
    " \n",
    "# bitwise lishift operator\n",
    "b <<= a\n",
    "print(b)"
   ]
  },
  {
   "cell_type": "markdown",
   "id": "10bda04a",
   "metadata": {},
   "source": [
    "#### Membership operators, Logical operators and Identity operators will be mentiond later "
   ]
  },
  {
   "cell_type": "markdown",
   "id": "04b7aa68",
   "metadata": {},
   "source": [
    "### Complex type"
   ]
  },
  {
   "cell_type": "code",
   "execution_count": 44,
   "id": "9d0f7406",
   "metadata": {},
   "outputs": [
    {
     "name": "stdout",
     "output_type": "stream",
     "text": [
      "(1+0j)\n",
      "(1+2j)\n"
     ]
    }
   ],
   "source": [
    "# Python complex() function example  \n",
    "# Calling function  \n",
    "a = complex(1) # Passing single parameter  \n",
    "b = complex(1,2) # Passing both parameters  \n",
    "# Displaying result  \n",
    "print(a)  \n",
    "print(b)  "
   ]
  },
  {
   "cell_type": "markdown",
   "id": "178d5a7b",
   "metadata": {},
   "source": [
    "# Sequence Types in python [list , tuple , range]\n"
   ]
  },
  {
   "cell_type": "markdown",
   "id": "c163686a",
   "metadata": {},
   "source": [
    "## List "
   ]
  },
  {
   "cell_type": "markdown",
   "id": "8c7ded94",
   "metadata": {},
   "source": [
    "Lists are used to store multiple items in a single variable.\n",
    "\n",
    "Lists are one of 4 built-in data types in Python used to store collections of data, the other 3 are Tuple, Set, and Dictionary, all with different qualities and usage.\n",
    "\n",
    "Lists are created using square brackets:"
   ]
  },
  {
   "cell_type": "code",
   "execution_count": 65,
   "id": "f6d6ceb6",
   "metadata": {},
   "outputs": [
    {
     "name": "stdout",
     "output_type": "stream",
     "text": [
      "3\n",
      "2\n",
      "['Elnaggar', 0.7, 'Elnaggar', 5.4, 1, 'Alaa']\n"
     ]
    }
   ],
   "source": [
    "#Creating lists\n",
    "\n",
    "# my_list = ['Alaa', 1, 5.4, 'Elnaggar', 0.7]\n",
    "\n",
    "# print(my_list)\n",
    "\n",
    "# #Accessing list values\n",
    "# print(my_list[2])# 5.4\n",
    "\n",
    "# print(my_list[-1])# 0.7\n",
    "# print(my_list[:2]) #  till element2\n",
    "\n",
    "# #Modifying lists\n",
    "# x = \"ITI\"\n",
    "# Y = \"567575I65767TI54667572\" \n",
    "# my_list.append(x) # append x to end of list\n",
    "\n",
    "# print(my_list)\n",
    "\n",
    "# my_list.extend(Y) # append all elements of Y to list\n",
    "# print(my_list)\n",
    "\n",
    "# my_list.insert(0, x) # insert x at index 1\n",
    "# print(my_list)\n",
    "\n",
    "# my_list.remove(x) # remove first occurance of x from list\n",
    "# print(my_list)\n",
    "\n",
    "# my_list.pop(3) # pop element at index i (defaults to end of list)\n",
    "# print(my_list)\n",
    "\n",
    "# my_list.clear() # delete all elements from the list\n",
    "# print(my_list)\n",
    "\n",
    "my_list = ['Alaa', 1, 5.4, 'Elnaggar', 0.7,'Elnaggar']\n",
    "x='Elnaggar'\n",
    "\n",
    "print(my_list.index(x)) # return index of element x\n",
    "\n",
    "\n",
    "print(my_list.count(x)) # return number of occurances of x in list\n",
    "\n",
    "my_list.reverse() # reverse elements of list in-place (no return)\n",
    "print(my_list)\n",
    "\n",
    "#my_list.sort(key=None, reverse=False) # sort list in-place\n",
    "#my_list.copy() # return a shallow copy of the list\n",
    "#my_nested_list = ['foobar', ['baz', 'qux'], [0]]\n"
   ]
  },
  {
   "cell_type": "markdown",
   "id": "b2981485",
   "metadata": {},
   "source": [
    "# Tuple\n",
    "Tuples are used to store multiple items in a single variable.\n",
    "\n",
    "Tuple is one of 4 built-in data types in Python used to store collections of data, the other 3 are List, Set, and Dictionary, all with different qualities and usage.\n",
    "\n",
    "A tuple is a collection which is ordered and unchangeable.\n",
    "\n",
    "Tuples are written with round brackets.\n",
    "\n",
    "#### Ordered\n",
    "When we say that tuples are ordered, it means that the items have a defined order, and that order will not change.\n",
    "\n",
    "####  Unchangeable\n",
    "Tuples are unchangeable, meaning that we cannot change, add or remove items after the tuple has been created\n",
    "####  Allow Duplicates\n",
    "Since tuples are indexed, they can have items with the same value:"
   ]
  },
  {
   "cell_type": "code",
   "execution_count": 70,
   "id": "66bb4de5",
   "metadata": {},
   "outputs": [
    {
     "name": "stdout",
     "output_type": "stream",
     "text": [
      "('apple', 2, 'cherry', 2)\n",
      "3\n",
      "banana\n",
      "<class 'tuple'>\n",
      "('apple',)\n",
      "<class 'str'>\n"
     ]
    }
   ],
   "source": [
    "thistuple = (\"apple\", 2, \"cherry\",2)\n",
    "print(thistuple)\n",
    "\n",
    "# to print length of tuple \n",
    "thistuple = (\"apple\", \"banana\", \"cherry\")\n",
    "\n",
    "print(len(thistuple))\n",
    "print(thistuple[1])\n",
    "#thistuple[1] = 1  # will produce error tuple is a constant \n",
    "\n",
    "# Tuble at least consist of two elements \n",
    "thistuple = (\"apple\",)\n",
    "print(type(thistuple))\n",
    "print(thistuple)\n",
    "\n",
    "\n",
    "\n",
    "thistuple = (\"apple\")\n",
    "print(type(thistuple)  )   \n",
    "\n",
    "\n",
    "\n",
    "\n"
   ]
  },
  {
   "cell_type": "markdown",
   "id": "e3f36f1e",
   "metadata": {},
   "source": [
    "# Range \n",
    "The range() function returns a sequence of numbers, starting from 0 by default, and increments by 1 (by default), and stops before a specified number \\\n",
    "range(start, stop, step)\n"
   ]
  },
  {
   "cell_type": "code",
   "execution_count": 74,
   "id": "6a23209d",
   "metadata": {},
   "outputs": [
    {
     "name": "stdout",
     "output_type": "stream",
     "text": [
      "1\n",
      "21\n",
      "41\n",
      "61\n",
      "81\n",
      "101\n",
      "0\n",
      "1\n",
      "2\n",
      "3\n",
      "4\n",
      "5\n"
     ]
    }
   ],
   "source": [
    "x = range(1, 102 , 20)\n",
    "\n",
    "for n in x:\n",
    "    print(n)\n",
    "\n",
    "    \n",
    "x = range(6)\n",
    "for n in x:\n",
    "  print(n)"
   ]
  },
  {
   "cell_type": "markdown",
   "id": "a65555e5",
   "metadata": {},
   "source": [
    "# Mapping type"
   ]
  },
  {
   "cell_type": "markdown",
   "id": "977a9598",
   "metadata": {},
   "source": [
    "# dict\n",
    "Dictionary\n",
    "Dictionaries are used to store data values in key:value pairs.\n",
    "\n",
    "A dictionary is a collection which is ordered*, changeable and do not allow duplicates."
   ]
  },
  {
   "cell_type": "markdown",
   "id": "6d339a51",
   "metadata": {},
   "source": []
  },
  {
   "cell_type": "code",
   "execution_count": 79,
   "id": "78df18a5",
   "metadata": {},
   "outputs": [
    {
     "name": "stdout",
     "output_type": "stream",
     "text": [
      "4\n",
      "1964\n",
      "white\n"
     ]
    }
   ],
   "source": [
    "# thisdict = {\n",
    "#   \"brand\": \"New\",\n",
    "#   \"model\": \"Bently\",\n",
    "#   \"year\": 1964,\n",
    "#   \"year\": 2020\n",
    "# }\n",
    "# print(thisdict)\n",
    "\n",
    "# # Print the number of items in the dictionary:\n",
    "# print(len(thisdict))\n",
    "\n",
    "#The values in dictionary items can be of any data type:\n",
    "thisdict = {\n",
    "  \"brand\": \"Ford\",\n",
    "  \"electric\": False,\n",
    "  \"year\": 1964,\n",
    "  \"colors\": [\"red\", \"white\", \"blue\"]\n",
    "}\n",
    "print(len(thisdict))\n",
    "\n",
    "# printing dict elements \n",
    "\n",
    "print(thisdict[\"year\"]) \n",
    "\n",
    "print(thisdict[\"colors\"][1]) "
   ]
  },
  {
   "cell_type": "markdown",
   "id": "5c4e429a",
   "metadata": {},
   "source": [
    "# Set Types\n",
    " ### set , frozenset"
   ]
  },
  {
   "cell_type": "markdown",
   "id": "160b29b3",
   "metadata": {},
   "source": [
    "## set \n",
    "A set is an unordered collection of items. Every set element is unique (no duplicates) and must be immutable (cannot be changed).\n",
    "\n",
    " a set itself is mutable. We can add or remove items from it.\n"
   ]
  },
  {
   "cell_type": "code",
   "execution_count": 82,
   "id": "1af1d72f",
   "metadata": {},
   "outputs": [
    {
     "name": "stdout",
     "output_type": "stream",
     "text": [
      "{1, 2, 3}\n",
      "{1.0, (1, 2, 3), 'Hello'}\n",
      "{1.0, (1, 2, 3), 'Hello'}\n",
      "{1, 2, 3}\n",
      "{'o', 'W', 'H', 'd', 'l', 'e', 'r'}\n",
      "{'o', 'W', 'H', 100, 'd', 'l', 'e', 'r'}\n",
      "o\n",
      "{'H', 100, 'd', 'l', 'e', 'r'}\n",
      "set()\n"
     ]
    }
   ],
   "source": [
    "# Different types of sets in Python\n",
    "# set of integers\n",
    "my_set = {1, 2, 3}\n",
    "print(my_set)\n",
    "\n",
    "# set of mixed datatypes\n",
    "my_set = {1.0, \"Hello\", (1, 2, 3)}\n",
    "print(my_set)\n",
    "print(my_set)\n",
    "\n",
    "# # set cannot have duplicates\n",
    "# # Output: {1, 2, 3, 4}\n",
    "# my_set = {1, 2, 3, 4, 3, 2}\n",
    "# print(my_set)\n",
    "\n",
    "# we can make set from a list\n",
    "# Output: {1, 2, 3}\n",
    "my_set = set([1, 2, 3, 2])\n",
    "print(my_set)\n",
    "\n",
    "\n",
    "# # set cannot have mutable items\n",
    "# # here [3, 4] is a mutable list\n",
    "# # this will cause an error.\n",
    "\n",
    "# my_set = {1, 2, [3, 4]}\n",
    "\n",
    "# initialize my_set\n",
    "# Output: set of unique elements\n",
    "my_set = set(\"HelloWorld\")\n",
    "print(my_set)\n",
    "\n",
    "my_set.add(100)\n",
    "print(my_set)\n",
    "\n",
    "# pop an element\n",
    "# Output: random element\n",
    "print(my_set.pop())\n",
    "\n",
    "# pop another element\n",
    "my_set.pop()\n",
    "print(my_set)\n",
    "\n",
    "# clear my_set\n",
    "# Output: set()\n",
    "my_set.clear()\n",
    "print(my_set)"
   ]
  },
  {
   "cell_type": "markdown",
   "id": "6f550e3a",
   "metadata": {},
   "source": [
    "# The frozenset\n",
    " function returns an immutable frozenset object initialized with elements from the given iterable.\n",
    "\n",
    "Frozen set is just an immutable version of a Python set object. While elements of a set can be modified at any time, elements of the frozen set remain the same after creation.\n",
    "\n",
    "Due to this, frozen sets can be used as keys in Dictionary or as elements of another set. But like sets, it is not ordered (the elements can be set at any index)."
   ]
  },
  {
   "cell_type": "code",
   "execution_count": 83,
   "id": "706575c6",
   "metadata": {},
   "outputs": [
    {
     "name": "stdout",
     "output_type": "stream",
     "text": [
      "The frozen set is: frozenset({'o', 'i', 'a', 'e', 'u'})\n"
     ]
    }
   ],
   "source": [
    "# tuple of vowels\n",
    "vowels = ('a', 'e', 'i', 'o', 'u')\n",
    "\n",
    "fSet = frozenset(vowels)\n",
    "print('The frozen set is:', fSet)\n",
    "\n",
    "# print('The frozen set is:', fSet[0]) # error 'frozenset' object is not subscriptable\n",
    "\n",
    "# frozensets are immutable\n",
    "# fSet.add('v') # error \n",
    "\n",
    "# fSet.remove(0)  # allowed in normal set\n"
   ]
  },
  {
   "cell_type": "markdown",
   "id": "af96ecd3",
   "metadata": {},
   "source": [
    "# bytes and bytearray\n",
    " \n",
    " are used for manipulating binary data.\n",
    "\n",
    "# The memoryview uses the buffer protocol to access the memory of other binary objects without needing to make a copy.\n",
    "\n",
    "Bytes objects are immutable sequences of single bytes. We should use them only when working with ASCII compatible data.\n",
    "\n",
    "The syntax for bytes literals is same as string literals, except that a 'b' prefix is added.\n",
    "\n",
    "bytearray objects are always created by calling the constructor bytearray(). These are mutable objects."
   ]
  },
  {
   "cell_type": "code",
   "execution_count": 87,
   "id": "37b7482e",
   "metadata": {},
   "outputs": [
    {
     "name": "stdout",
     "output_type": "stream",
     "text": [
      "bytearray(b'\\x00\\x00\\x00\\x00\\x00')\n",
      "<memory at 0x0000017398042C40>\n"
     ]
    }
   ],
   "source": [
    "x = b'char_data'\n",
    "x = b\"char_data\"\n",
    " \n",
    "y = bytearray(5)\n",
    "print (y)\n",
    " \n",
    "z = memoryview(y )\n",
    " \n",
    "print(z)\n",
    "\n",
    "x = 2 \n",
    "y = 2*x/5\n",
    "\n",
    "x = y\n",
    "\n",
    "# print(x)  # b'char_data'\n",
    "# print(y)  # bytearray(b'\\x00\\x00\\x00\\x00\\x00')\n",
    "# print(z)  # <memory at 0x014CE328>\n",
    "\n",
    "# bytestr = bytes(b'abc') \n",
    "  \n",
    "# # initializing a string with b\n",
    "# # makes it a binary string\n",
    "# print('bytestr')\n",
    "# print(bytestr[0])\n",
    "  \n",
    "# print(b'\\xC2\\xA9\\x20\\xF0\\x9D\\x8C\\x86\\x20\\xE2\\x98\\x83'.decode('utf-8'))\n",
    "# print(b'\\xC2\\xA9\\x20\\xF0\\x9D\\x8C\\x86\\x20\\xE2\\x98\\x83'.decode('latin-1'))\n",
    "\n",
    "\n",
    "# bytesArr = bytearray(b'\\x00\\x0F')\n",
    "  \n",
    "# # Bytearray allows modification\n",
    "# bytesArr[0] = 255\n",
    "# bytesArr.append(255)\n",
    "# print(bytesArr)\n",
    "\n"
   ]
  },
  {
   "cell_type": "markdown",
   "id": "088b5f25",
   "metadata": {},
   "source": [
    "# bool types "
   ]
  },
  {
   "cell_type": "code",
   "execution_count": 88,
   "id": "80a93a5e",
   "metadata": {},
   "outputs": [
    {
     "name": "stdout",
     "output_type": "stream",
     "text": [
      "False\n",
      "True\n",
      "False\n",
      "False\n",
      "False\n",
      "False\n",
      "False\n",
      "True\n"
     ]
    }
   ],
   "source": [
    "# Python program to illustrate\n",
    "# built-in method bool()\n",
    " \n",
    "# Returns False as x is False\n",
    "x = False\n",
    "print(bool(x))\n",
    " \n",
    "# Returns True as x is True\n",
    "x = True\n",
    "print(bool(x))\n",
    " \n",
    "# Returns False as x is not equal to y\n",
    "x = 5\n",
    "y = 10\n",
    "print(bool(x == y))\n",
    " \n",
    "# Returns False as x is None\n",
    "x = None\n",
    "print(bool(x))\n",
    " \n",
    "# Returns False as x is an empty sequence\n",
    "x = ()\n",
    "print(bool(x))\n",
    " \n",
    "# Returns False as x is an empty mapping\n",
    "x = {}\n",
    "print(bool(x))\n",
    " \n",
    "# Returns False as x is 0\n",
    "x = 0.0\n",
    "print(bool(x))\n",
    " \n",
    "# Returns True as x is a non empty string\n",
    "x = 'AlaaElnaggar'\n",
    "print(bool(x))"
   ]
  },
  {
   "cell_type": "markdown",
   "id": "e1ff146b",
   "metadata": {},
   "source": []
  },
  {
   "cell_type": "code",
   "execution_count": 91,
   "id": "c03bfa83",
   "metadata": {},
   "outputs": [
    {
     "name": "stdout",
     "output_type": "stream",
     "text": [
      "True\n",
      "True\n",
      "False\n",
      "False\n",
      "False\n",
      "False\n",
      "<class 'type'>\n"
     ]
    }
   ],
   "source": [
    "print (10 > 9)\n",
    "print (bool(\"Hello\"))\n",
    "#empty string is used to chek if contains value or not\n",
    "print (bool(\"\"))\n",
    "#empty tuple is used to chek if contains value or not\n",
    "print (bool())\n",
    "#empty list is used to chek if contains value or not\n",
    "print (bool([]))\n",
    "#empty set is used to chek if contains value or not\n",
    "print (bool({}))\n",
    "print (type(int))"
   ]
  },
  {
   "cell_type": "markdown",
   "id": "4675157a",
   "metadata": {},
   "source": []
  },
  {
   "cell_type": "code",
   "execution_count": 90,
   "id": "bebb88a5",
   "metadata": {},
   "outputs": [
    {
     "name": "stdout",
     "output_type": "stream",
     "text": [
      "b'\\x00\\x00\\x00\\x00'\n",
      "<class 'bytes'>\n"
     ]
    }
   ],
   "source": [
    "# bytes is a class which creates bytes\n",
    "# bytes are constructor of class bytes\n",
    "# when used create instance of bytes\n",
    "# bytes are immutable const  \n",
    "empty_bytes = bytes(4)\n",
    "print(empty_bytes) # b'\\x00\\x00\\x00\\x00'\n",
    "print (type(empty_bytes)) # class \n",
    "#empty_bytes[0]= 5 ; #'bytes' object does not support item assignment\n"
   ]
  },
  {
   "cell_type": "code",
   "execution_count": 96,
   "id": "a601bfa7",
   "metadata": {},
   "outputs": [
    {
     "name": "stdout",
     "output_type": "stream",
     "text": [
      "Byte Conversion :b'Hello world'\n",
      "Byte Conversion :b'Hello ????world'\n"
     ]
    },
    {
     "ename": "UnicodeEncodeError",
     "evalue": "'ascii' codec can't encode characters in position 6-9: ordinal not in range(128)",
     "output_type": "error",
     "traceback": [
      "\u001b[1;31m---------------------------------------------------------------------------\u001b[0m",
      "\u001b[1;31mUnicodeEncodeError\u001b[0m                        Traceback (most recent call last)",
      "\u001b[1;32md:\\ITI_Embedded_Linux\\Python\\Lec1\\Lec1.ipynb Cell 64\u001b[0m in \u001b[0;36m<cell line: 16>\u001b[1;34m()\u001b[0m\n\u001b[0;32m     <a href='vscode-notebook-cell:/d%3A/ITI_Embedded_Linux/Python/Lec1/Lec1.ipynb#Y120sZmlsZQ%3D%3D?line=13'>14</a>\u001b[0m \u001b[39mprint\u001b[39m (\u001b[39m\"\u001b[39m\u001b[39mByte Conversion :\u001b[39m\u001b[39m\"\u001b[39m \u001b[39m+\u001b[39m\u001b[39mstr\u001b[39m(\u001b[39mbytes\u001b[39m(str1,\u001b[39m'\u001b[39m\u001b[39mascii\u001b[39m\u001b[39m'\u001b[39m,errors \u001b[39m=\u001b[39m \u001b[39m'\u001b[39m\u001b[39mreplace\u001b[39m\u001b[39m'\u001b[39m))  )\n\u001b[0;32m     <a href='vscode-notebook-cell:/d%3A/ITI_Embedded_Linux/Python/Lec1/Lec1.ipynb#Y120sZmlsZQ%3D%3D?line=14'>15</a>\u001b[0m \u001b[39m# stop  excution \u001b[39;00m\n\u001b[1;32m---> <a href='vscode-notebook-cell:/d%3A/ITI_Embedded_Linux/Python/Lec1/Lec1.ipynb#Y120sZmlsZQ%3D%3D?line=15'>16</a>\u001b[0m \u001b[39mprint\u001b[39m (\u001b[39m\"\u001b[39m\u001b[39mByte Conversion :\u001b[39m\u001b[39m\"\u001b[39m \u001b[39m+\u001b[39m\u001b[39mstr\u001b[39m(\u001b[39mbytes\u001b[39;49m(str1,\u001b[39m'\u001b[39;49m\u001b[39mascii\u001b[39;49m\u001b[39m'\u001b[39;49m,errors \u001b[39m=\u001b[39;49m \u001b[39m'\u001b[39;49m\u001b[39mstrict\u001b[39;49m\u001b[39m'\u001b[39;49m))  )\n",
      "\u001b[1;31mUnicodeEncodeError\u001b[0m: 'ascii' codec can't encode characters in position 6-9: ordinal not in range(128)"
     ]
    }
   ],
   "source": [
    "\n",
    "# list conversion into bytes \n",
    "\n",
    "# My_List =[1,2,3,2,5]\n",
    "\n",
    "# My_List_bytes = bytes(My_List)\n",
    "\n",
    "# print (My_List_bytes)\n",
    "'''\n",
    "# '''\n",
    "str1 = 'Hello علاءworld'\n",
    "\n",
    "print (\"Byte Conversion :\" +str(bytes(str1,'ascii',errors = 'ignore'))  )\n",
    "#relace error with question martk\n",
    "print (\"Byte Conversion :\" +str(bytes(str1,'ascii',errors = 'replace'))  )\n",
    "# stop  excution \n",
    "print (\"Byte Conversion :\" +str(bytes(str1,'ascii',errors = 'strict'))  )"
   ]
  },
  {
   "cell_type": "code",
   "execution_count": 97,
   "id": "b4a04c77",
   "metadata": {},
   "outputs": [
    {
     "name": "stdout",
     "output_type": "stream",
     "text": [
      "hello\n",
      "Byte Conversion :b'hello'\n"
     ]
    }
   ],
   "source": [
    "# parsing data from the user \n",
    "\n",
    "data = \"\\x68\\x65\\x6c\\x6c\\x6f\"\n",
    "\n",
    "print (data)\n",
    "\n",
    "print (\"Byte Conversion :\" +str(bytes(data,'ascii',errors = 'ignore'))  )"
   ]
  },
  {
   "cell_type": "code",
   "execution_count": 98,
   "id": "962f57b5",
   "metadata": {},
   "outputs": [
    {
     "name": "stdout",
     "output_type": "stream",
     "text": [
      "<class 'bytearray'>\n",
      "bytearray(b'\\x00\\x00\\x00\\x00\\x00')\n",
      "bytearray(b'\\x05\\x00\\x00\\x00\\x00')\n",
      "bytearray(b'\\x05\\x00\\x00\\x00\\x00\\xff')\n"
     ]
    }
   ],
   "source": [
    "# byte array is a changeable array of bytes \n",
    "\n",
    "byte_array_1 = bytearray(5) \n",
    "print (type(byte_array_1))\n",
    "print (byte_array_1)\n",
    "byte_array_1[0] = 5\n",
    "print (byte_array_1)\n",
    "byte_array_1.append(0xff)\n",
    "print (byte_array_1)"
   ]
  },
  {
   "cell_type": "code",
   "execution_count": null,
   "id": "690b93fc",
   "metadata": {},
   "outputs": [],
   "source": [
    "# Memory view is function which receiev\n",
    "# array receive object of  bytes or byte array \n",
    "# Use python buffer protocol \n",
    "# return object address \n",
    "\n",
    "byte_array = bytearray('AlaaElnaggar','utf-8')\n",
    "\n",
    "memoryview_1 = memoryview(byte_array)\n",
    "memoryview_1[0] = 0xff\n",
    "print (byte_array)\n",
    "# print the adress of memory location for byte_array\n",
    "\n",
    "print (\"The address of byte_array = \" + str(memoryview_1) )"
   ]
  },
  {
   "cell_type": "code",
   "execution_count": 99,
   "id": "6e4a45c8",
   "metadata": {},
   "outputs": [
    {
     "name": "stdout",
     "output_type": "stream",
     "text": [
      "bytes  10000 0.009523630142211914\n",
      "bytes  20000 0.008976221084594727\n",
      "bytes  30000 0.018949270248413086\n",
      "bytes  40000 0.025966405868530273\n",
      "bytes  50000 0.039891719818115234\n",
      "memory view   10000 0.0009636878967285156\n",
      "memory view   20000 0.0020368099212646484\n",
      "memory view   30000 0.002949953079223633\n",
      "memory view   40000 0.003989219665527344\n",
      "memory view   50000 0.0060176849365234375\n"
     ]
    }
   ],
   "source": [
    "# slicing create local copies \n",
    "import time \n",
    "# printing bytes \n",
    "for n in (10000 , 20000 , 30000 , 40000 , 50000):\n",
    "\tdata = 'A'*n\n",
    "\tstart =time.time()\n",
    "\twhile data:\n",
    "\t\tdata = data[1:]\n",
    "\tprint ('bytes ' , n  ,time.time() - start)\n",
    "\n",
    "\n",
    "for n in (10000 , 20000 , 30000 , 40000 , 50000):\n",
    "\tdata = 'A'*n\n",
    "\tstart =time.time()\n",
    "\tdata = bytearray(data,'utf-8')\n",
    "\t# no copies edit will occur in the same place \n",
    "\t\n",
    "\tdata = memoryview(data)\n",
    "\t\n",
    "\twhile data:\n",
    "\t\tdata = data[1:]\n",
    "\tprint ('memory view  ' , n  ,time.time() - start)\n"
   ]
  },
  {
   "cell_type": "code",
   "execution_count": 100,
   "id": "627774da",
   "metadata": {},
   "outputs": [
    {
     "name": "stdout",
     "output_type": "stream",
     "text": [
      "0b101\n"
     ]
    }
   ],
   "source": [
    "# binary view \n",
    "\n",
    "print(bin(5))"
   ]
  },
  {
   "cell_type": "code",
   "execution_count": 105,
   "id": "4278ff78",
   "metadata": {},
   "outputs": [
    {
     "name": "stdout",
     "output_type": "stream",
     "text": [
      "it's not exist \n",
      "Thanks\n",
      "a= b\n"
     ]
    }
   ],
   "source": [
    "# membership operators \n",
    "# in - not in - \n",
    "a = 20 \n",
    "b = 20 \n",
    "\n",
    "list = [1 , 2 , 3 , 4]\n",
    "\n",
    "if a in list:\n",
    "\tprint (\"it exist\")\n",
    "else:\n",
    "\tprint (\"it's not exist \")\n",
    "\n",
    "if a not in list:\n",
    "\tprint (\"Thanks\")\n",
    "else:\n",
    "\tprint (\"it exist\")\n",
    "\n",
    "if a is b :\n",
    "\tprint (\"a= b\")\n",
    "else:\n",
    "\tprint (\"a!=b\")"
   ]
  },
  {
   "cell_type": "code",
   "execution_count": 116,
   "id": "b23c16ed",
   "metadata": {},
   "outputs": [
    {
     "name": "stdout",
     "output_type": "stream",
     "text": [
      "[10, 20, 30, 40, 50, 60, 70, 80, 90]\n",
      "[10, 20, 30, 40, 50, 60, 70, 80, 90]\n",
      "[20, 30, 40, 50, 60, 70, 80, 90]\n",
      "[30, 40, 50]\n",
      "[90]\n",
      "[90, 80, 70, 60, 50, 40, 30, 20, 10]\n",
      "[90]\n",
      "[]\n",
      "[]\n",
      "[90, 80, 70]\n",
      "[50, 60, 70, 80]\n"
     ]
    }
   ],
   "source": [
    "# slicing\n",
    "\n",
    "nums = [10 , 20 , 30 , 40 , 50 , 60 , 70 , 80 , 90 ]\n",
    "\n",
    "print(nums[:])\n",
    "print(nums[0:])\n",
    "print(nums[1:])\n",
    "print(nums[2:5:])\n",
    "print(nums[-1::])\n",
    "print(nums[-1::-1])\n",
    "print(nums[-1::2])\n",
    "print(nums[-1:4:]) \n",
    "print(nums[-1:-4:]) \n",
    "print(nums[-1:-4:-1]) \n",
    "print(nums[-5:-1:]) \n"
   ]
  },
  {
   "cell_type": "code",
   "execution_count": 102,
   "id": "439f0e6d",
   "metadata": {},
   "outputs": [
    {
     "name": "stdout",
     "output_type": "stream",
     "text": [
      "a==20\n"
     ]
    }
   ],
   "source": [
    "# Statements \n",
    "\n",
    "a = 20\n",
    "b = 20 \n",
    "\n",
    "if a == 10:\n",
    "\tprint(\"a= 10\")\n",
    "elif a == 20:\n",
    "\tprint(\"a==20\")\n",
    "else:\n",
    "\tprint(\"Wrong Input \")"
   ]
  },
  {
   "cell_type": "code",
   "execution_count": 103,
   "id": "5edb19b6",
   "metadata": {},
   "outputs": [
    {
     "name": "stdout",
     "output_type": "stream",
     "text": [
      "1\n",
      "2\n",
      "3\n"
     ]
    }
   ],
   "source": [
    "i = 1\n",
    "while True:\n",
    "    print(i)\n",
    "    i = i + 1\n",
    "    if(i > 3):\n",
    "        break"
   ]
  },
  {
   "cell_type": "code",
   "execution_count": 104,
   "id": "5ff9da85",
   "metadata": {},
   "outputs": [
    {
     "name": "stdout",
     "output_type": "stream",
     "text": [
      "4\n",
      "3\n",
      "2\n",
      "1\n"
     ]
    }
   ],
   "source": [
    "\n",
    "# checks if list still\n",
    "# contains any element\n",
    "a = [1, 2, 3, 4]\n",
    "  \n",
    "while a:\n",
    "    print(a.pop())"
   ]
  },
  {
   "cell_type": "code",
   "execution_count": null,
   "id": "b065eae3",
   "metadata": {},
   "outputs": [],
   "source": [
    "\n"
   ]
  }
 ],
 "metadata": {
  "kernelspec": {
   "display_name": "Python 3.9.1rc1 64-bit",
   "language": "python",
   "name": "python3"
  },
  "language_info": {
   "codemirror_mode": {
    "name": "ipython",
    "version": 3
   },
   "file_extension": ".py",
   "mimetype": "text/x-python",
   "name": "python",
   "nbconvert_exporter": "python",
   "pygments_lexer": "ipython3",
   "version": "3.9.1rc1"
  },
  "vscode": {
   "interpreter": {
    "hash": "43623726d6407856152d67d5465a38392b5160cd189b98f2f24e14daccd05be9"
   }
  }
 },
 "nbformat": 4,
 "nbformat_minor": 5
}
