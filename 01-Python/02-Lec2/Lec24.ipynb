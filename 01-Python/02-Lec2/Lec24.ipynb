{
 "cells": [
  {
   "cell_type": "markdown",
   "metadata": {},
   "source": [
    "# Lec2\n"
   ]
  },
  {
   "cell_type": "markdown",
   "metadata": {},
   "source": [
    "## Strings "
   ]
  },
  {
   "cell_type": "code",
   "execution_count": 1,
   "metadata": {},
   "outputs": [
    {
     "name": "stdout",
     "output_type": "stream",
     "text": [
      "AlaaElnaggar\n",
      "Alaa'Elnaggar\n",
      "Alaa'Elnaggar\n"
     ]
    }
   ],
   "source": [
    "# printing of string \n",
    "print(\"AlaaElnaggar\")\n",
    "print('Alaa\\'Elnaggar')\n",
    "print('''Alaa\\'Elnaggar''')"
   ]
  },
  {
   "cell_type": "code",
   "execution_count": null,
   "metadata": {},
   "outputs": [],
   "source": []
  },
  {
   "cell_type": "code",
   "execution_count": 2,
   "metadata": {},
   "outputs": [
    {
     "name": "stdout",
     "output_type": "stream",
     "text": [
      "ITI \n",
      "            \n",
      "            Embedded \n",
      "            \n",
      "            \n",
      "            Linux \n"
     ]
    }
   ],
   "source": [
    "# Printing of multiple Lines \n",
    "s = '''ITI \n",
    "            \n",
    "            Embedded \n",
    "            \n",
    "            \n",
    "            Linux '''\n",
    "print(s)"
   ]
  },
  {
   "cell_type": "code",
   "execution_count": null,
   "metadata": {},
   "outputs": [],
   "source": []
  },
  {
   "cell_type": "code",
   "execution_count": 4,
   "metadata": {},
   "outputs": [
    {
     "ename": "TypeError",
     "evalue": "'str' object does not support item assignment",
     "output_type": "error",
     "traceback": [
      "\u001b[1;31m---------------------------------------------------------------------------\u001b[0m",
      "\u001b[1;31mTypeError\u001b[0m                                 Traceback (most recent call last)",
      "\u001b[1;32md:\\ITI_Embedded_Linux\\01-Python\\02-Lec2\\Lec24.ipynb Cell 7\u001b[0m in \u001b[0;36m<cell line: 3>\u001b[1;34m()\u001b[0m\n\u001b[0;32m      <a href='vscode-notebook-cell:/d%3A/ITI_Embedded_Linux/01-Python/02-Lec2/Lec24.ipynb#W4sZmlsZQ%3D%3D?line=0'>1</a>\u001b[0m Data \u001b[39m=\u001b[39m \u001b[39m\"\u001b[39m\u001b[39mAlaaElnaggar\u001b[39m\u001b[39m\"\u001b[39m\n\u001b[0;32m      <a href='vscode-notebook-cell:/d%3A/ITI_Embedded_Linux/01-Python/02-Lec2/Lec24.ipynb#W4sZmlsZQ%3D%3D?line=1'>2</a>\u001b[0m \u001b[39m# string is un changeable\u001b[39;00m\n\u001b[1;32m----> <a href='vscode-notebook-cell:/d%3A/ITI_Embedded_Linux/01-Python/02-Lec2/Lec24.ipynb#W4sZmlsZQ%3D%3D?line=2'>3</a>\u001b[0m Data[\u001b[39m0\u001b[39;49m] \u001b[39m=\u001b[39m \u001b[39m5\u001b[39m   \u001b[39m# error\u001b[39;00m\n\u001b[0;32m      <a href='vscode-notebook-cell:/d%3A/ITI_Embedded_Linux/01-Python/02-Lec2/Lec24.ipynb#W4sZmlsZQ%3D%3D?line=3'>4</a>\u001b[0m \u001b[39mprint\u001b[39m(Data [\u001b[39m0\u001b[39m] )\n\u001b[0;32m      <a href='vscode-notebook-cell:/d%3A/ITI_Embedded_Linux/01-Python/02-Lec2/Lec24.ipynb#W4sZmlsZQ%3D%3D?line=4'>5</a>\u001b[0m \u001b[39m# slicing is applicable in string \u001b[39;00m\n",
      "\u001b[1;31mTypeError\u001b[0m: 'str' object does not support item assignment"
     ]
    }
   ],
   "source": [
    "Data = \"AlaaElnaggar\"\n",
    "# string is un changeable\n",
    "Data[0] = 5   # error\n",
    "print(Data [0] )\n",
    "# slicing is applicable in string \n",
    "print(Data [0:4] )\n",
    "\n",
    "print(len(Data))\n"
   ]
  },
  {
   "cell_type": "code",
   "execution_count": null,
   "metadata": {},
   "outputs": [],
   "source": []
  },
  {
   "cell_type": "code",
   "execution_count": null,
   "metadata": {},
   "outputs": [],
   "source": [
    " alaa "
   ]
  },
  {
   "cell_type": "markdown",
   "metadata": {},
   "source": [
    "## String Functions\n",
    "- strip  : responsible for removing first and last spaces BY default  \n",
    "-        : responsible for removing first and last argument  \n",
    "- lower  : Converting string into lowercase  \n",
    "- upper  : Converting string into uppercase  \n",
    "- replace : replace(\"A\" , \" B \")  --> replace any occurencc of A with b"
   ]
  },
  {
   "cell_type": "code",
   "execution_count": 15,
   "metadata": {},
   "outputs": [
    {
     "name": "stdout",
     "output_type": "stream",
     "text": [
      "AlaaElnaggar\n",
      "AlaaElnaggar\n",
      "Alaa      Elnaggar\n",
      "   a&a&b &&  Alaa      Elnaggar            \n"
     ]
    }
   ],
   "source": [
    "Data = \"                    AlaaElnaggar\"\n",
    "print(Data.strip() )\n",
    "\n",
    "Data = \"AlaaElnaggar            \"\n",
    "print(Data.strip() )\n",
    "\n",
    "Data = \"Alaa      Elnaggar            \"\n",
    "print(Data.strip() )\n",
    "\n",
    "Data = \"&   a&a&b &&  Alaa      Elnaggar            &&&&&&&&&&&&&&\"\n",
    "print(Data.strip(\"&a\") )"
   ]
  },
  {
   "cell_type": "code",
   "execution_count": 16,
   "metadata": {},
   "outputs": [
    {
     "name": "stdout",
     "output_type": "stream",
     "text": [
      "                    alaaelnaggar\n",
      "                    ALAAELNAGGAR\n"
     ]
    }
   ],
   "source": [
    "Data = \"                    AlaaElnaggar\"\n",
    "print(Data.lower() )\n",
    "\n",
    "Data = \"                    AlaaElnaggar\"\n",
    "print(Data.upper() )"
   ]
  },
  {
   "cell_type": "code",
   "execution_count": 19,
   "metadata": {},
   "outputs": [
    {
     "name": "stdout",
     "output_type": "stream",
     "text": [
      "                    Al$Eln$$$$$$$$$$$$$$$$$$$$$aggar\n"
     ]
    }
   ],
   "source": [
    "Data = \"                    AlaaElnaaaaaaaaaaaaaaaaaaaaaaaaaaaaaaaaaaaaaaaaaaaggar\"\n",
    "print(Data.replace(\"aa\" , \"$\") )"
   ]
  },
  {
   "cell_type": "code",
   "execution_count": 20,
   "metadata": {},
   "outputs": [
    {
     "name": "stdout",
     "output_type": "stream",
     "text": [
      "['Alaa-', '(Elnaggar', ')']\n",
      "[5, '(Elnaggar', ')']\n",
      "['Alaa', '(Elnaggar)']\n",
      "Alaa-(Elnaggar)\n"
     ]
    }
   ],
   "source": [
    "Data = \"Alaa- (Elnaggar )\"\n",
    "Data = Data.split()   # return list of elements according to the spaces \n",
    "print(Data)   # split the code and convert it into pieces of strings\n",
    "Data[0] = 5 \n",
    "print(Data)   \n",
    "\n",
    "Data = \"Alaa-(Elnaggar)\"\n",
    "print(Data.split(\"-\"))   # split the code and convert it into pieces \n",
    "#Data[0] = 5  # error \n",
    "print(Data)  "
   ]
  },
  {
   "cell_type": "code",
   "execution_count": 21,
   "metadata": {},
   "outputs": [
    {
     "name": "stdout",
     "output_type": "stream",
     "text": [
      "True\n",
      "['.code', 'demomain:', 'REPEAT', '20', 'switch', 'rv(nrandom,', '9)', ';', 'generate', 'a', 'number', 'between', '0', 'and', '8', 'mov', 'ecx,', '7', 'case', '0', 'print', '\"case', '0\"', 'case', 'ecx', ';', 'in', 'contrast', 'to', 'most', 'other', 'programming', 'languages,', 'print', '\"case', '7\"', ';', 'the', 'Masm32', 'switch', 'allows', '\"variable', 'cases\"', 'case', '1', '..', '3', '.if', 'eax==1', 'print', '\"case', '1\"', '.elseif', 'eax==2', 'print', '\"case', '2\"', '.else', 'print', '\"cases', '1', 'to', '3:', 'other\"', '.endif', 'case', '4,', '6,', '8', 'print', '\"cases', '4,', '6', 'or', '8\"', 'default', 'mov', 'ebx,', '19', ';', 'print', '20', 'stars', '.Repeat', 'print', '\"*\"', 'dec', 'ebx', '.Until', 'Sign?', ';', 'loop', 'until', 'the', 'sign', 'flag', 'is', 'set', 'endsw', 'print', 'chr$(13,', '10)', 'ENDM', 'exit', 'end', 'demomain']\n",
      "move exist at index 15\n",
      "The word exist :  4\n",
      "\"demomain\" appears 4 time(s)\n"
     ]
    }
   ],
   "source": [
    "\n",
    "code = '''.code\n",
    "demomain:\n",
    "  REPEAT 20\n",
    "\tswitch rv(nrandom, 9)\t; generate a number between 0 and 8\n",
    "\tmov ecx, 7\n",
    "\tcase 0\n",
    "\t\tprint \"case 0\"\n",
    "\tcase ecx\t\t\t\t; in contrast to most other programming languages,\n",
    "\t\tprint \"case 7\"\t\t; the Masm32 switch allows \"variable cases\"\n",
    "\tcase 1 .. 3\n",
    "\t\t.if eax==1\n",
    "\t\t\tprint \"case 1\"\n",
    "\t\t.elseif eax==2\n",
    "\t\t\tprint \"case 2\"\n",
    "\t\t.else\n",
    "\t\t\tprint \"cases 1 to 3: other\"\n",
    "\t\t.endif\n",
    "\tcase 4, 6, 8\n",
    "\t\tprint \"cases 4, 6 or 8\"\n",
    "\tdefault\n",
    "\t\tmov ebx, 19\t\t     ; print 20 stars\n",
    "\t\t.Repeat\n",
    "\t\t\tprint \"*\"\n",
    "\t\t\tdec ebx\n",
    "\t\t.Until Sign?\t\t ; loop until the sign flag is set\n",
    "\tendsw\n",
    "\tprint chr$(13, 10)\n",
    "  ENDM\n",
    "  exit\n",
    "end demomain'''\n",
    "Check_if_exist = \"mov\" in code\n",
    "\n",
    "print (Check_if_exist)\n",
    "\n",
    "#converting the code into a list\n",
    "code_list=code.split()\n",
    "print(code_list)\n",
    "\n",
    "# finding the keyword index\n",
    "\n",
    "occurence = code_list.index(\"mov\")\n",
    "print(\"move exist at index\" ,occurence)\n",
    "\n",
    "\n",
    "# return number of occurence in a list \n",
    "counter = 0\n",
    "for word in code_list:\n",
    "\tif word == \"case\":\n",
    "\t\tcounter +=1\n",
    "print(\"The word exist : \",counter) \n",
    "# or we can use the following tto find number of occurence \n",
    "\n",
    "print(f'\"case\" appears {code_list.count(\"case\")} time(s)')\n",
    "\n",
    "\n",
    "\n",
    "\n",
    "\n"
   ]
  },
  {
   "cell_type": "code",
   "execution_count": 24,
   "metadata": {},
   "outputs": [
    {
     "name": "stdout",
     "output_type": "stream",
     "text": [
      "['.', 'c', 'o', 'd', 'e', '\\n', 'd', 'e', 'm', 'o', 'm', 'a', 'i', 'n', ':', '\\n', ' ', ' ', 'R', 'E', 'P', 'E', 'A', 'T', ' ', '2', '0', '\\n', '\\t', 's', 'w', 'i', 't', 'c', 'h', ' ', 'r', 'v', '(', 'n', 'r', 'a', 'n', 'd', 'o', 'm', ',', ' ', '9', ')', '\\t', ';', ' ', 'g', 'e', 'n', 'e', 'r', 'a', 't', 'e', ' ', 'a', ' ', 'n', 'u', 'm', 'b', 'e', 'r', ' ', 'b', 'e', 't', 'w', 'e', 'e', 'n', ' ', '0', ' ', 'a', 'n', 'd', ' ', '8', '\\n', '\\t', 'm', 'o', 'v', ' ', 'e', 'c', 'x', ',', ' ', '7', '\\n', '\\t', 'c', 'a', 's', 'e', ' ', '0', '\\n', '\\t', '\\t', 'p', 'r', 'i', 'n', 't', ' ', '\"', 'c', 'a', 's', 'e', ' ', '0', '\"', '\\n', '\\t', 'c', 'a', 's', 'e', ' ', 'e', 'c', 'x', '\\t', '\\t', '\\t', '\\t', ';', ' ', 'i', 'n', ' ', 'c', 'o', 'n', 't', 'r', 'a', 's', 't', ' ', 't', 'o', ' ', 'm', 'o', 's', 't', ' ', 'o', 't', 'h', 'e', 'r', ' ', 'p', 'r', 'o', 'g', 'r', 'a', 'm', 'm', 'i', 'n', 'g', ' ', 'l', 'a', 'n', 'g', 'u', 'a', 'g', 'e', 's', ',', '\\n', '\\t', '\\t', 'p', 'r', 'i', 'n', 't', ' ', '\"', 'c', 'a', 's', 'e', ' ', '7', '\"', '\\t', '\\t', ';', ' ', 't', 'h', 'e', ' ', 'M', 'a', 's', 'm', '3', '2', ' ', 's', 'w', 'i', 't', 'c', 'h', ' ', 'a', 'l', 'l', 'o', 'w', 's', ' ', '\"', 'v', 'a', 'r', 'i', 'a', 'b', 'l', 'e', ' ', 'c', 'a', 's', 'e', 's', '\"', '\\n', '\\t', 'c', 'a', 's', 'e', ' ', '1', ' ', '.', '.', ' ', '3', '\\n', '\\t', '\\t', '.', 'i', 'f', ' ', 'e', 'a', 'x', '=', '=', '1', '\\n', '\\t', '\\t', '\\t', 'p', 'r', 'i', 'n', 't', ' ', '\"', 'c', 'a', 's', 'e', ' ', '1', '\"', '\\n', '\\t', '\\t', '.', 'e', 'l', 's', 'e', 'i', 'f', ' ', 'e', 'a', 'x', '=', '=', '2', '\\n', '\\t', '\\t', '\\t', 'p', 'r', 'i', 'n', 't', ' ', '\"', 'c', 'a', 's', 'e', ' ', '2', '\"', '\\n', '\\t', '\\t', '.', 'e', 'l', 's', 'e', '\\n', '\\t', '\\t', '\\t', 'p', 'r', 'i', 'n', 't', ' ', '\"', 'c', 'a', 's', 'e', 's', ' ', '1', ' ', 't', 'o', ' ', '3', ':', ' ', 'o', 't', 'h', 'e', 'r', '\"', '\\n', '\\t', '\\t', '.', 'e', 'n', 'd', 'i', 'f', '\\n', '\\t', 'c', 'a', 's', 'e', ' ', '4', ',', ' ', '6', ',', ' ', '8', '\\n', '\\t', '\\t', 'p', 'r', 'i', 'n', 't', ' ', '\"', 'c', 'a', 's', 'e', 's', ' ', '4', ',', ' ', '6', ' ', 'o', 'r', ' ', '8', '\"', '\\n', '\\t', 'd', 'e', 'f', 'a', 'u', 'l', 't', '\\n', '\\t', '\\t', 'm', 'o', 'v', ' ', 'e', 'b', 'x', ',', ' ', '1', '9', '\\t', '\\t', ' ', ' ', ' ', ' ', ' ', ';', ' ', 'p', 'r', 'i', 'n', 't', ' ', '2', '0', ' ', 's', 't', 'a', 'r', 's', '\\n', '\\t', '\\t', '.', 'R', 'e', 'p', 'e', 'a', 't', '\\n', '\\t', '\\t', '\\t', 'p', 'r', 'i', 'n', 't', ' ', '\"', '*', '\"', '\\n', '\\t', '\\t', '\\t', 'd', 'e', 'c', ' ', 'e', 'b', 'x', '\\n', '\\t', '\\t', '.', 'U', 'n', 't', 'i', 'l', ' ', 'S', 'i', 'g', 'n', '?', '\\t', '\\t', ' ', ';', ' ', 'l', 'o', 'o', 'p', ' ', 'u', 'n', 't', 'i', 'l', ' ', 't', 'h', 'e', ' ', 's', 'i', 'g', 'n', ' ', 'f', 'l', 'a', 'g', ' ', 'i', 's', ' ', 's', 'e', 't', '\\n', '\\t', 'e', 'n', 'd', 's', 'w', '\\n', '\\t', 'p', 'r', 'i', 'n', 't', ' ', 'c', 'h', 'r', '$', '(', '1', '3', ',', ' ', '1', '0', ')', '\\n', ' ', ' ', 'E', 'N', 'D', 'M', '\\n', ' ', ' ', 'e', 'x', 'i', 't', '\\n', 'e', 'n', 'd', ' ', 'd', 'e', 'm', 'o', 'm', 'a', 'i', 'n']\n",
      ".code\n",
      "\n",
      "\n",
      "demomain:\n",
      "\n",
      "\n",
      "  REPEAT 20\n",
      "\n",
      "\n",
      "\tswitch rv(nrandom, 9)\t; generate a number between 0 and 8\n",
      "\n",
      "\n",
      "\tmov ecx, 7\n",
      "\n",
      "\n",
      "\tcase 0\n",
      "\n",
      "\n",
      "\t\tprint \"case 0\"\n",
      "\n",
      "\n",
      "\tcase ecx\t\t\t\t; in contrast to most other programming languages,\n",
      "\n",
      "\n",
      "\t\tprint \"case 7\"\t\t; the Masm32 switch allows \"variable cases\"\n",
      "\n",
      "\n",
      "\tcase 1 .. 3\n",
      "\n",
      "\n",
      "\t\t.if eax==1\n",
      "\n",
      "\n",
      "\t\t\tprint \"case 1\"\n",
      "\n",
      "\n",
      "\t\t.elseif eax==2\n",
      "\n",
      "\n",
      "\t\t\tprint \"case 2\"\n",
      "\n",
      "\n",
      "\t\t.else\n",
      "\n",
      "\n",
      "\t\t\tprint \"cases 1 to 3: other\"\n",
      "\n",
      "\n",
      "\t\t.endif\n",
      "\n",
      "\n",
      "\tcase 4, 6, 8\n",
      "\n",
      "\n",
      "\t\tprint \"cases 4, 6 or 8\"\n",
      "\n",
      "\n",
      "\tdefault\n",
      "\n",
      "\n",
      "\t\tmov ebx, 19\t\t     ; print 20 stars\n",
      "\n",
      "\n",
      "\t\t.Repeat\n",
      "\n",
      "\n",
      "\t\t\tprint \"*\"\n",
      "\n",
      "\n",
      "\t\t\tdec ebx\n",
      "\n",
      "\n",
      "\t\t.Until Sign?\t\t ; loop until the sign flag is set\n",
      "\n",
      "\n",
      "\tendsw\n",
      "\n",
      "\n",
      "\tprint chr$(13, 10)\n",
      "\n",
      "\n",
      "  ENDM\n",
      "\n",
      "\n",
      "  exit\n",
      "\n",
      "\n",
      "end demomain"
     ]
    }
   ],
   "source": [
    "code = '''.code\n",
    "demomain:\n",
    "  REPEAT 20\n",
    "\tswitch rv(nrandom, 9)\t; generate a number between 0 and 8\n",
    "\tmov ecx, 7\n",
    "\tcase 0\n",
    "\t\tprint \"case 0\"\n",
    "\tcase ecx\t\t\t\t; in contrast to most other programming languages,\n",
    "\t\tprint \"case 7\"\t\t; the Masm32 switch allows \"variable cases\"\n",
    "\tcase 1 .. 3\n",
    "\t\t.if eax==1\n",
    "\t\t\tprint \"case 1\"\n",
    "\t\t.elseif eax==2\n",
    "\t\t\tprint \"case 2\"\n",
    "\t\t.else\n",
    "\t\t\tprint \"cases 1 to 3: other\"\n",
    "\t\t.endif\n",
    "\tcase 4, 6, 8\n",
    "\t\tprint \"cases 4, 6 or 8\"\n",
    "\tdefault\n",
    "\t\tmov ebx, 19\t\t     ; print 20 stars\n",
    "\t\t.Repeat\n",
    "\t\t\tprint \"*\"\n",
    "\t\t\tdec ebx\n",
    "\t\t.Until Sign?\t\t ; loop until the sign flag is set\n",
    "\tendsw\n",
    "\tprint chr$(13, 10)\n",
    "  ENDM\n",
    "  exit\n",
    "end demomain''' \n",
    "\n",
    "# dividing the code into tokens\n",
    "code = list(code)\n",
    "print (code )\n",
    "\n",
    "\n",
    "# printing the code in a proper way\n",
    "#code_lines= \"\"\n",
    "for C in code:\n",
    "    if C == \"\\n\":\n",
    "        print (\"\\n\")\t\n",
    "    print(C,end=\"\")\n"
   ]
  },
  {
   "cell_type": "code",
   "execution_count": 26,
   "metadata": {},
   "outputs": [
    {
     "name": "stdout",
     "output_type": "stream",
     "text": [
      "Start_End \n"
     ]
    },
    {
     "ename": "TypeError",
     "evalue": "can only concatenate str (not \"int\") to str",
     "output_type": "error",
     "traceback": [
      "\u001b[1;31m---------------------------------------------------------------------------\u001b[0m",
      "\u001b[1;31mTypeError\u001b[0m                                 Traceback (most recent call last)",
      "\u001b[1;32md:\\ITI_Embedded_Linux\\01-Python\\02-Lec2\\Lec24.ipynb Cell 17\u001b[0m in \u001b[0;36m<cell line: 9>\u001b[1;34m()\u001b[0m\n\u001b[0;32m      <a href='vscode-notebook-cell:/d%3A/ITI_Embedded_Linux/01-Python/02-Lec2/Lec24.ipynb#X15sZmlsZQ%3D%3D?line=6'>7</a>\u001b[0m a \u001b[39m=\u001b[39m \u001b[39m\"\u001b[39m\u001b[39mStart\u001b[39m\u001b[39m\"\u001b[39m \n\u001b[0;32m      <a href='vscode-notebook-cell:/d%3A/ITI_Embedded_Linux/01-Python/02-Lec2/Lec24.ipynb#X15sZmlsZQ%3D%3D?line=7'>8</a>\u001b[0m b \u001b[39m=\u001b[39m \u001b[39m5\u001b[39m\n\u001b[1;32m----> <a href='vscode-notebook-cell:/d%3A/ITI_Embedded_Linux/01-Python/02-Lec2/Lec24.ipynb#X15sZmlsZQ%3D%3D?line=8'>9</a>\u001b[0m c \u001b[39m=\u001b[39m a \u001b[39m+\u001b[39;49m b  \u001b[39m# Will produce error operator overloading needs two string \u001b[39;00m\n\u001b[0;32m     <a href='vscode-notebook-cell:/d%3A/ITI_Embedded_Linux/01-Python/02-Lec2/Lec24.ipynb#X15sZmlsZQ%3D%3D?line=9'>10</a>\u001b[0m \u001b[39mprint\u001b[39m (c)\n",
      "\u001b[1;31mTypeError\u001b[0m: can only concatenate str (not \"int\") to str"
     ]
    }
   ],
   "source": [
    "# String Concatination \n",
    "a = \"Start\" \n",
    "b = \"_End \"\n",
    "c = a + b  # Operator overloading \n",
    "print (c) \n",
    "\n",
    "a = \"Start\" \n",
    "b = 5\n",
    "c = a + b  # Will produce error operator overloading needs two string \n",
    "print (c) "
   ]
  },
  {
   "cell_type": "code",
   "execution_count": 27,
   "metadata": {},
   "outputs": [
    {
     "name": "stdout",
     "output_type": "stream",
     "text": [
      "C = 10 , b = 20 , c = 30\n",
      "C = 30 , b = 20 , c = 10\n"
     ]
    }
   ],
   "source": [
    "# Injecting elements in an text \n",
    "A = 10  \n",
    "B = 20\n",
    "C = 30\n",
    "\n",
    "data =  (\"C = {} , b = {} , c = {}\" )\n",
    "print (data.format(A,B,C))\n",
    "\n",
    "\n",
    "data =  (\"C = {2} , b = {1} , c = {0}\" )\n",
    "print (data.format(A,B,C))\n",
    " \n",
    " "
   ]
  },
  {
   "cell_type": "code",
   "execution_count": 28,
   "metadata": {},
   "outputs": [
    {
     "name": "stdout",
     "output_type": "stream",
     "text": [
      "dlroW olleH\n",
      "drWolH\n",
      "dlr\n"
     ]
    }
   ],
   "source": [
    "# reversing of string \n",
    "txt = \"Hello World\"[::-1]\n",
    "print(txt)\n",
    "\n",
    "txt = \"Hello World\"[::-2]\n",
    "print(txt)\n",
    "\n",
    "txt = \"Hello World\"[-1:-4:-1]\n",
    "print(txt)"
   ]
  },
  {
   "cell_type": "code",
   "execution_count": 34,
   "metadata": {},
   "outputs": [
    {
     "name": "stdout",
     "output_type": "stream",
     "text": [
      "All****is****good\n"
     ]
    }
   ],
   "source": [
    "# Adding string between  list  elements \n",
    "data = [\"All\" , \"is\" , \"good\" ] \n",
    "data2 = \"****\".join(data)\n",
    "print(data2)\n"
   ]
  },
  {
   "cell_type": "code",
   "execution_count": 35,
   "metadata": {},
   "outputs": [
    {
     "name": "stdout",
     "output_type": "stream",
     "text": [
      "Hello_Hello_Hello_Hello_Hello_\n"
     ]
    }
   ],
   "source": [
    "# String douplication \n",
    "\n",
    "a = \"Hello_\" \n",
    "print(a*5)"
   ]
  },
  {
   "cell_type": "markdown",
   "metadata": {},
   "source": [
    "# Python string\n",
    "https://www.w3schools.com/python/python_ref_string.asp\n",
    "\n",
    "- capitalize()\tConverts the first character to upper case\n",
    "- casefold()\tConverts string into lower case\n",
    "- center()\tReturns a centered string\n",
    "- count()\tReturns the number of times a specified value occurs in a string\n",
    "- encode()\tReturns an encoded version of the string\n",
    "- endswith()\tReturns true if the string ends with the specified value\n",
    "- expandtabs()\tSets the tab size of the string\n",
    "- find()\tSearches the string for a specified value and returns the position of where it was found\n",
    "- format()\tFormats specified values in a string\n",
    "- format_map()\tFormats specified values in a string\n",
    "- index()\tSearches the string for a specified value and returns the position of where it was found\n",
    "- isalnum()\tReturns True if all characters in the string are alphanumeric\n",
    "- isalpha()\tReturns True if all characters in the string are in the alphabet\n",
    "- isascii()\tReturns True if all characters in the string are ascii characters\n",
    "- isdecimal()\tReturns True if all characters in the string are decimals\n",
    "- isdigit()\tReturns True if all characters in the string are digits\n",
    "- isidentifier()\tReturns True if the string is an identifier\n",
    "- islower()\tReturns True if all characters in the string are lower case\n",
    "- isnumeric()\tReturns True if all characters in the string are numeric\n",
    "- isprintable()\tReturns True if all characters in the string are printable\n",
    "- isspace()\tReturns True if all characters in the string are whitespaces\n",
    "- istitle()\tReturns True if the string follows the rules of a title\n",
    "- isupper()\tReturns True if all characters in the string are upper case\n",
    "- join()\tConverts the elements of an iterable into a string\n",
    "- ljust()\tReturns a left justified version of the string\n",
    "- lower()\tConverts a string into lower case\n",
    "- lstrip()\tReturns a left trim version of the string\n",
    "- maketrans()\tReturns a translation table to be used in translations\n",
    "- partition()\tReturns a tuple where the string is parted into three parts\n",
    "- replace()\tReturns a string where a specified value is replaced with a specified value\n",
    "- rfind()\tSearches the string for a specified value and returns the last position of where it was found\n",
    "- rindex()\tSearches the string for a specified value and returns the last position of where it was found\n",
    "- rjust()\tReturns a right justified version of the string\n",
    "- rpartition()\tReturns a tuple where the string is parted into three parts\n",
    "- rsplit()\tSplits the string at the specified separator, and returns a list\n",
    "- rstrip()\tReturns a right trim version of the string\n",
    "- split()\tSplits the string at the specified separator, and returns a list\n",
    "- splitlines()\tSplits the string at line breaks and returns a list\n",
    "- startswith()\tReturns true if the string starts with the specified value\n",
    "- strip()\tReturns a trimmed version of the string\n",
    "- swapcase()\tSwaps cases, lower case becomes upper case and vice versa\n",
    "- title()\tConverts the first character of each word to upper case\n",
    "- translate()\tReturns a translated string\n",
    "- upper()\tConverts a string into upper case\n",
    "- zfill()\tFills the string with a specified number of 0 values at the beginning"
   ]
  },
  {
   "cell_type": "markdown",
   "metadata": {},
   "source": [
    "# Functions "
   ]
  },
  {
   "cell_type": "code",
   "execution_count": 36,
   "metadata": {},
   "outputs": [
    {
     "name": "stdout",
     "output_type": "stream",
     "text": [
      "My_Name is :AlaaElnaggar\n"
     ]
    }
   ],
   "source": [
    "def print_name (name ):\n",
    "    print (\"My_Name is :\" + name)\n",
    "    \n",
    "print_name(\"AlaaElnaggar\")"
   ]
  },
  {
   "cell_type": "code",
   "execution_count": null,
   "metadata": {},
   "outputs": [],
   "source": [
    "\n",
    "def sum (a , b ):\n",
    "    print (\"The sum is  is :\" , a+b)\n",
    "\n",
    "sum(5,10)"
   ]
  },
  {
   "cell_type": "code",
   "execution_count": 37,
   "metadata": {},
   "outputs": [
    {
     "name": "stdout",
     "output_type": "stream",
     "text": [
      "1\n",
      "AlaaElnaggar\n",
      "None\n"
     ]
    }
   ],
   "source": [
    "# function with return \n",
    "def func_1():\n",
    "    return 1 \n",
    "    print(\"End of function\")  # dead code \n",
    "print(func_1())\n",
    "\n",
    "# by default the function return none \n",
    "\n",
    "def func_2():\n",
    "    print(\"AlaaElnaggar\")\n",
    "print(func_2())\n",
    "\n"
   ]
  },
  {
   "cell_type": "markdown",
   "metadata": {},
   "source": [
    "# Arbitrary Argument \n",
    "- This function receive tuble and give the ability to access it's arguments accordinglly \n",
    "Variable-length arguments, varargs for short, are arguments that can take an unspecified amount of input. When these are used, the programmer does not need to wrap the data in a list or an alternative sequence.\n",
    "\n",
    "- we can use"
   ]
  },
  {
   "cell_type": "code",
   "execution_count": 39,
   "metadata": {},
   "outputs": [
    {
     "name": "stdout",
     "output_type": "stream",
     "text": [
      "<class 'tuple'>\n",
      "Here is the input ('Alaa',)\n",
      "<class 'tuple'>\n",
      "Here is the input ('Alaa', 'Yousef')\n",
      "<class 'tuple'>\n",
      "Here is the input ('Alaa', 'Yousef', 'Elnaggar')\n"
     ]
    }
   ],
   "source": [
    "# Variadic function \n",
    "# always return tuble  \n",
    "\n",
    "# always return tuble  \n",
    "# useful incase of unknown inputs \n",
    "\n",
    "def Variadic_Input(*Input):\n",
    "   # print(Input)\n",
    "    x = Input\n",
    "    print(type(Input))\n",
    "    print(\"Here is the input \"+str (x))\n",
    "\n",
    "# demo for passing different number of inputs \n",
    "\n",
    "Variadic_Input(\"Alaa\" )\n",
    "\n",
    "Variadic_Input(\"Alaa\" ,\"Yousef\" )\n",
    "\n",
    "Variadic_Input(\"Alaa\" ,\"Yousef\" , \"Elnaggar\")"
   ]
  },
  {
   "cell_type": "code",
   "execution_count": 40,
   "metadata": {},
   "outputs": [
    {
     "name": "stdout",
     "output_type": "stream",
     "text": [
      "('foo', 'bar', 'baz')\n",
      "foo\n",
      "bar\n",
      "baz\n",
      "----------------\n",
      "()\n",
      "----------------\n",
      "(('a', 'b', 'c'), ('a', 'b', 'c'), ('a', 'b', 'c'))\n",
      "('a', 'b', 'c')\n",
      "('a', 'b', 'c')\n",
      "('a', 'b', 'c')\n"
     ]
    }
   ],
   "source": [
    "# always return tuble  \n",
    "# very useful in parsing a list of string \n",
    "\n",
    "def func(*args):\n",
    "    print(args)\n",
    "    for arg in args:\n",
    "        print(arg)\n",
    "\n",
    "\n",
    "tuble_1 = (\"a\",\"b\",\"c\")\n",
    "\n",
    "func(\"foo\", \"bar\", \"baz\")\n",
    "print(\"----------------\")\n",
    "func()\n",
    "print(\"----------------\")\n",
    "func(tuble_1 ,tuble_1, tuble_1 )\n"
   ]
  },
  {
   "cell_type": "markdown",
   "metadata": {},
   "source": [
    "# passing unlimited dict to function \n",
    "## What is Python **kwargs\n",
    "- variable-length argument list. We use the name kwargs with the double star. \n",
    "- The reason is that the double star allows us to pass through keyword arguments (and any number of them).\n",
    "- A keyword argument is where you provide a name to the variable as you pass it into the function.\n",
    "- One can think of the kwargs as being a dictionary that maps each keyword to the value that we pass alongside it"
   ]
  },
  {
   "cell_type": "code",
   "execution_count": 41,
   "metadata": {},
   "outputs": [
    {
     "name": "stdout",
     "output_type": "stream",
     "text": [
      "{'a': 5, 'b': 10, 'name': 'AlaaElnaggar'}\n"
     ]
    }
   ],
   "source": [
    "\n",
    "#remember dict \n",
    "\n",
    "dict_ = {\"a\":5 , \"b\":10 }\n",
    "\n",
    "# adding element to the dict \n",
    "key = \"name\"\n",
    "value = \"AlaaElnaggar\"\n",
    "dict_[key] = \"AlaaElnaggar\"\n",
    "print(dict_)"
   ]
  },
  {
   "cell_type": "code",
   "execution_count": 43,
   "metadata": {},
   "outputs": [
    {
     "name": "stdout",
     "output_type": "stream",
     "text": [
      "serial1 == SPI\n",
      "serial2 == I2C\n",
      "serial3 == UART\n",
      "<class 'dict'>\n",
      "{'serial1': 'SPI', 'serial2': 'I2C', 'serial3': 'UART'}\n"
     ]
    },
    {
     "ename": "TypeError",
     "evalue": "myFun() takes 0 positional arguments but 1 was given",
     "output_type": "error",
     "traceback": [
      "\u001b[1;31m---------------------------------------------------------------------------\u001b[0m",
      "\u001b[1;31mTypeError\u001b[0m                                 Traceback (most recent call last)",
      "\u001b[1;32md:\\ITI_Embedded_Linux\\01-Python\\02-Lec2\\Lec24.ipynb Cell 32\u001b[0m in \u001b[0;36m<cell line: 13>\u001b[1;34m()\u001b[0m\n\u001b[0;32m      <a href='vscode-notebook-cell:/d%3A/ITI_Embedded_Linux/01-Python/02-Lec2/Lec24.ipynb#X40sZmlsZQ%3D%3D?line=8'>9</a>\u001b[0m Available_Serials  \u001b[39m=\u001b[39m {\u001b[39m\"\u001b[39m\u001b[39mserial1\u001b[39m\u001b[39m\"\u001b[39m:\u001b[39m\"\u001b[39m\u001b[39mSPI\u001b[39m\u001b[39m\"\u001b[39m,\n\u001b[0;32m     <a href='vscode-notebook-cell:/d%3A/ITI_Embedded_Linux/01-Python/02-Lec2/Lec24.ipynb#X40sZmlsZQ%3D%3D?line=9'>10</a>\u001b[0m                       \u001b[39m\"\u001b[39m\u001b[39mserial2\u001b[39m\u001b[39m\"\u001b[39m:\u001b[39m\"\u001b[39m\u001b[39mI2C\u001b[39m\u001b[39m\"\u001b[39m,\n\u001b[0;32m     <a href='vscode-notebook-cell:/d%3A/ITI_Embedded_Linux/01-Python/02-Lec2/Lec24.ipynb#X40sZmlsZQ%3D%3D?line=10'>11</a>\u001b[0m                       \u001b[39m\"\u001b[39m\u001b[39mserial3\u001b[39m\u001b[39m\"\u001b[39m:\u001b[39m\"\u001b[39m\u001b[39mUART\u001b[39m\u001b[39m\"\u001b[39m}\n\u001b[0;32m     <a href='vscode-notebook-cell:/d%3A/ITI_Embedded_Linux/01-Python/02-Lec2/Lec24.ipynb#X40sZmlsZQ%3D%3D?line=11'>12</a>\u001b[0m \u001b[39mprint\u001b[39m(Available_Serials)\n\u001b[1;32m---> <a href='vscode-notebook-cell:/d%3A/ITI_Embedded_Linux/01-Python/02-Lec2/Lec24.ipynb#X40sZmlsZQ%3D%3D?line=12'>13</a>\u001b[0m myFun(Available_Serials)\n",
      "\u001b[1;31mTypeError\u001b[0m: myFun() takes 0 positional arguments but 1 was given"
     ]
    }
   ],
   "source": [
    "\n",
    "def myFun(**kwargs):\n",
    "    for key, value in kwargs.items():\n",
    "        print(\"%s == %s\" % (key, value))\n",
    "    print(type(kwargs))  \n",
    " \n",
    "# Driver code\n",
    "myFun(serial1='SPI', serial2='I2C', serial3='UART')\n",
    "\n",
    "Available_Serials  = {\"serial1\":\"SPI\",\n",
    "                      \"serial2\":\"I2C\",\n",
    "                      \"serial3\":\"UART\"}\n",
    "print(Available_Serials)\n",
    "# myFun(Available_Serials)  # will produce error The function will recive dict as element by element "
   ]
  },
  {
   "cell_type": "code",
   "execution_count": 44,
   "metadata": {},
   "outputs": [
    {
     "name": "stdout",
     "output_type": "stream",
     "text": [
      "The key: serial1  the data:   SPI\n",
      "The key: serial2  the data:   I2C\n",
      "The key: serial3  the data:   UART\n"
     ]
    }
   ],
   "source": [
    "#Function recive dict :  printing keys and value of dict \n",
    "\n",
    "def printdict(Data):\n",
    "    for key in Data:\n",
    "        print(\"The key:\" , key , \" the data:  \" , Data[key] )   \n",
    "\n",
    "Available_Serials  = { \"serial1\":\"SPI\",\n",
    "                       \"serial2\":\"I2C\",\n",
    "                       \"serial3\":\"UART\"}\n",
    "printdict(Available_Serials)\n"
   ]
  },
  {
   "cell_type": "markdown",
   "metadata": {},
   "source": [
    "# function default argument "
   ]
  },
  {
   "cell_type": "code",
   "execution_count": null,
   "metadata": {},
   "outputs": [],
   "source": [
    "def PrintMyName (name = \"AlaaElnaggar\"):\n",
    "    print(\"MyName is \" + name  )\n",
    "\n",
    "PrintMyName(\"Elnaggar\")\n",
    "PrintMyName()   # default argument \n",
    "\n"
   ]
  },
  {
   "cell_type": "code",
   "execution_count": 45,
   "metadata": {},
   "outputs": [
    {
     "name": "stdout",
     "output_type": "stream",
     "text": [
      "------------DataList--------------\n",
      "1\n",
      "2\n",
      "3\n",
      "4\n",
      "5\n",
      "------------Data_Tuble------------\n",
      "a\n",
      "b\n",
      "c\n",
      "d\n",
      "e\n",
      "------------Data_str-------------\n",
      "A\n",
      "l\n",
      "a\n",
      "a\n",
      "E\n",
      "l\n",
      "n\n",
      "a\n",
      "g\n",
      "g\n",
      "a\n",
      "r\n",
      "------------Data_dict-------------\n",
      "serial1\n",
      "serial2\n",
      "serial3\n",
      "------------End------------------\n"
     ]
    }
   ],
   "source": [
    "# Generic function to print any variable \n",
    "\n",
    "def Print_AnyPassedVariable(Data) : \n",
    "    for d1 in Data:\n",
    "        print(d1)\n",
    "\n",
    "Data_List = [1 , 2, 3 , 4 , 5]\n",
    "Data_Tuble= (\"a\" , \"b\" , \"c\" , \"d\" , \"e\") \n",
    "Data_str  = \"AlaaElnaggar\"\n",
    "Data_dict = { \"serial1\":\"SPI\",\n",
    "            \"serial2\":\"I2C\",\n",
    "            \"serial3\":\"UART\"}\n",
    "print(\"------------DataList--------------\")\n",
    "Print_AnyPassedVariable(Data_List)\n",
    "print(\"------------Data_Tuble------------\")\n",
    "Print_AnyPassedVariable(Data_Tuble)\n",
    "print(\"------------Data_str-------------\")\n",
    "\n",
    "Print_AnyPassedVariable(Data_str)\n",
    "\n",
    "print(\"------------Data_dict-------------\")\n",
    "\n",
    "Print_AnyPassedVariable(Data_dict)\n",
    "\n",
    "print(\"------------End------------------\")\n"
   ]
  },
  {
   "cell_type": "markdown",
   "metadata": {},
   "source": [
    "# stubs"
   ]
  },
  {
   "cell_type": "code",
   "execution_count": null,
   "metadata": {},
   "outputs": [],
   "source": [
    "def CAN_Module_Stub():\n",
    "    pass\n",
    "\n",
    "def BootloaderParser_stub():\n",
    "    return 5 \n",
    "\n",
    "CAN_Module_Stub()\n",
    "BootloaderParser_stub()"
   ]
  },
  {
   "cell_type": "markdown",
   "metadata": {},
   "source": [
    "# Lab to Make BITMATH "
   ]
  },
  {
   "cell_type": "code",
   "execution_count": null,
   "metadata": {},
   "outputs": [],
   "source": [
    "def SET_BIT(VAR,BIT):\n",
    "\tVAR = int(VAR)\n",
    "\tBIT = int(BIT)\n",
    "\tresult = VAR | (1 << BIT)\n",
    "\treturn result\n",
    "\t\n",
    "def CLR_BIT(VAR,BIT):\n",
    "\tVAR = int(VAR)\n",
    "\tBIT = int(BIT)\n",
    "\tresult = VAR & (~(1 << BIT))\n",
    "\treturn result\n",
    "\t\n",
    "def GET_BIT(VAR,BIT):\n",
    "\tVAR = int(VAR)\n",
    "\tBIT = int(BIT)\n",
    "\tresult = (VAR >> BIT) & 1\n",
    "\treturn result\n",
    "\t\n",
    "def TOG_BIT(VAR,BIT):\n",
    "\tVAR = int(VAR)\n",
    "\tBIT = int(BIT)\n",
    "\tresult =VAR ^ (1 << BIT) \n",
    "\treturn result\n"
   ]
  },
  {
   "cell_type": "markdown",
   "metadata": {},
   "source": [
    "# Global Keyword"
   ]
  },
  {
   "cell_type": "code",
   "execution_count": 50,
   "metadata": {},
   "outputs": [
    {
     "name": "stdout",
     "output_type": "stream",
     "text": [
      "100\n",
      "50\n",
      "50\n"
     ]
    }
   ],
   "source": [
    "Data = 100\n",
    "print(Data)\n",
    "\n",
    "def changeGlobal(Data_1):\n",
    "    global Data \n",
    "    Data  = Data_1\n",
    "    print(Data)\n",
    "\n",
    "changeGlobal(50)\n",
    "print(Data)\n",
    "\n",
    "       \n"
   ]
  },
  {
   "cell_type": "markdown",
   "metadata": {},
   "source": [
    "# Static Variable"
   ]
  },
  {
   "cell_type": "code",
   "execution_count": 51,
   "metadata": {},
   "outputs": [
    {
     "name": "stdout",
     "output_type": "stream",
     "text": [
      "Counter is 1\n",
      "Counter is 2\n",
      "Counter is 3\n",
      "Counter is 4\n",
      "Counter is 5\n",
      "The global counter is  100\n"
     ]
    }
   ],
   "source": [
    "counter = 100\n",
    "def StaticVariable():\n",
    "    StaticVariable.counter +=1\n",
    "    print (\"Counter is %d\" % StaticVariable.counter)\n",
    "StaticVariable.counter = 0\n",
    "StaticVariable()\n",
    "StaticVariable()\n",
    "StaticVariable()\n",
    "StaticVariable()\n",
    "StaticVariable()\n",
    "\n",
    "print(\"The global counter is \" , counter)"
   ]
  },
  {
   "cell_type": "markdown",
   "metadata": {},
   "source": [
    "# Modules in python \n",
    "- User defined  : import math...import time ...\n",
    "- Builtin       : import <modulename>"
   ]
  },
  {
   "cell_type": "code",
   "execution_count": 54,
   "metadata": {},
   "outputs": [
    {
     "name": "stdout",
     "output_type": "stream",
     "text": [
      "Hello from BIT_MATH  Module\n",
      "5\n"
     ]
    }
   ],
   "source": [
    "import BIT_MATH\n",
    "\n",
    "REG = 5 \n",
    "BIT_MATH.SET_BIT(REG , 1)\n",
    "print (REG)"
   ]
  },
  {
   "cell_type": "code",
   "execution_count": null,
   "metadata": {},
   "outputs": [
    {
     "name": "stdout",
     "output_type": "stream",
     "text": [
      "Hello from BIT_MATH  Module\n",
      "7\n",
      "Hello from BIT_MATH  Module\n",
      "7\n"
     ]
    },
    {
     "data": {
      "text/plain": [
       "['CLR_BIT',\n",
       " 'GET_BIT',\n",
       " 'REG',\n",
       " 'SET_BIT',\n",
       " 'TOG_BIT',\n",
       " '__builtins__',\n",
       " '__cached__',\n",
       " '__doc__',\n",
       " '__file__',\n",
       " '__loader__',\n",
       " '__name__',\n",
       " '__package__',\n",
       " '__spec__']"
      ]
     },
     "execution_count": 4,
     "metadata": {},
     "output_type": "execute_result"
    }
   ],
   "source": [
    "import My_info\n",
    "import BIT_MATH\n",
    "\n",
    "REG = 5 \n",
    "\n",
    "\n",
    "print (BIT_MATH.SET_BIT(REG , 1))\n",
    "\n",
    "print (My_info.SET_BIT(REG , 1))\n",
    "# to print supported functions in the module\n",
    "dir(BIT_MATH)\n",
    "#My_info.PrintMyInfo(Data)\n"
   ]
  },
  {
   "cell_type": "code",
   "execution_count": 5,
   "metadata": {},
   "outputs": [
    {
     "name": "stdout",
     "output_type": "stream",
     "text": [
      "Hello from JJJJJJJJJJJJJJJJJJJJJJJJJJJJJJJJJJJJJJJJJJJJJJJJJJJJJJJJJJJJJJJJJJJJJJJJJJ MODULE\n"
     ]
    }
   ],
   "source": [
    "# Long name module import \n",
    "import  JJJJJJJJJJJJJJJJJJJJJJJJJJJJJJJJJJJJJJJJJJJJJJJJJJJJJJJJJJJJJJJJJJJJJJJJJJ as J_Module\n",
    "J_Module.printModuleName()"
   ]
  },
  {
   "cell_type": "code",
   "execution_count": 6,
   "metadata": {},
   "outputs": [
    {
     "data": {
      "text/plain": [
       "'Windows'"
      ]
     },
     "execution_count": 6,
     "metadata": {},
     "output_type": "execute_result"
    }
   ],
   "source": [
    "# builtin modules \n",
    "import platform\n",
    "# print system name \n",
    "platform.system()\n",
    "\n"
   ]
  },
  {
   "cell_type": "markdown",
   "metadata": {},
   "source": [
    "# File Handling \n",
    "\n",
    "- Runs over OS \n",
    "\n",
    "usages :\n",
    "important in embedded systems legacy code to append main configuration parameters\n",
    "\n",
    "- The key function for working with files in Python is the open() function.\n",
    "\n",
    "- The open() function takes two parameters; filename, and mode:\n",
    "\n",
    "- \"r\" - Read - Default value. Opens a file for reading, error if the file does not exist\n",
    "\n",
    "- \"a\" - Append - Opens a file for appending, creates the file if it does not exist\n",
    "\n",
    "- \"w\" - Write - Opens a file for writing, creates the file if it does not exist\n",
    "\n",
    "- \"x\" - Create - Creates the specified file, returns an error if the file exists\n",
    "\n",
    "- \"t\" - Text - Default value. Text mode\n",
    "\n",
    "- \"b\" - Binary - Binary mode (e.g. images)"
   ]
  },
  {
   "cell_type": "markdown",
   "metadata": {},
   "source": []
  },
  {
   "cell_type": "code",
   "execution_count": 29,
   "metadata": {},
   "outputs": [
    {
     "name": "stdout",
     "output_type": "stream",
     "text": [
      "hello from file1.txt\n",
      "<class 'str'>\n"
     ]
    }
   ],
   "source": [
    "#f1 = open(\"file1.txt\" , \"x\")    # Create a new file  \n",
    "f1 = open(\"file1.txt\" , \"a+\")    # open a new file to read it and append v\n",
    "\n",
    "f1 = open(\"file1.txt\" , \"r\")    # open a new file to read it and append \n",
    "\n",
    "\n",
    "print(f1.read())\n",
    "print(type (f1.read()))"
   ]
  },
  {
   "cell_type": "code",
   "execution_count": 33,
   "metadata": {},
   "outputs": [
    {
     "name": "stdout",
     "output_type": "stream",
     "text": [
      ".code\n",
      "demomain:\n",
      "  REPEAT 20\n",
      "\tswitch rv(nrandom, 9)\t; generate a number between 0 and 8\n",
      "\tmov ecx, 7\n",
      "\tcase 0\n",
      "\t\tprint \"case 0\"\n",
      "\tcase ecx\t\t\t\t; in contrast to most other programming languages,\n",
      "\t\tprint \"case 7\"\t\t; the Masm32 switch allows \"variable cases\"\n",
      "\tcase 1 .. 3\n",
      "\t\t.if eax==1\n",
      "\t\t\tprint \"case 1\"\n",
      "\t\t.elseif eax==2\n",
      "\t\t\tprint \"case 2\"\n",
      "\t\t.else\n",
      "\t\t\tprint \"cases 1 to 3: other\"\n",
      "\t\t.endif\n",
      "\tcase 4, 6, 8\n",
      "\t\tprint \"cases 4, 6 or 8\"\n",
      "\tdefault\n",
      "\t\tmov ebx, 19\t\t     ; print 20 stars\n",
      "\t\t.Repeat\n",
      "\t\t\tprint \"*\"\n",
      "\t\t\tdec ebx\n",
      "\t\t.Until Sign?\t\t ; loop until the sign flag is set\n",
      "\tendsw\n",
      "\tprint chr$(13, 10)\n",
      "  ENDM\n",
      "  exit\n",
      "end demomain\n",
      "['.code\\n']\n"
     ]
    }
   ],
   "source": [
    "\n",
    "code = '''.code\n",
    "demomain:\n",
    "  REPEAT 20\n",
    "\tswitch rv(nrandom, 9)\t; generate a number between 0 and 8\n",
    "\tmov ecx, 7\n",
    "\tcase 0\n",
    "\t\tprint \"case 0\"\n",
    "\tcase ecx\t\t\t\t; in contrast to most other programming languages,\n",
    "\t\tprint \"case 7\"\t\t; the Masm32 switch allows \"variable cases\"\n",
    "\tcase 1 .. 3\n",
    "\t\t.if eax==1\n",
    "\t\t\tprint \"case 1\"\n",
    "\t\t.elseif eax==2\n",
    "\t\t\tprint \"case 2\"\n",
    "\t\t.else\n",
    "\t\t\tprint \"cases 1 to 3: other\"\n",
    "\t\t.endif\n",
    "\tcase 4, 6, 8\n",
    "\t\tprint \"cases 4, 6 or 8\"\n",
    "\tdefault\n",
    "\t\tmov ebx, 19\t\t     ; print 20 stars\n",
    "\t\t.Repeat\n",
    "\t\t\tprint \"*\"\n",
    "\t\t\tdec ebx\n",
    "\t\t.Until Sign?\t\t ; loop until the sign flag is set\n",
    "\tendsw\n",
    "\tprint chr$(13, 10)\n",
    "  ENDM\n",
    "  exit\n",
    "end demomain'''\n",
    "\n",
    "f2 = open(\"code.asm\" , \"w\")\n",
    "f2.write(code)\n",
    "f2 = open(\"code.asm\" , \"r\")\n",
    "\n",
    "print(f2.read())\n",
    "f2.close()\n",
    "f2 = open(\"code.asm\" , \"r\")\n",
    "\n",
    "print(f2.readlines(3)) # return list  of lines seperated by \\n\n",
    "f2.close()\n",
    "\n"
   ]
  },
  {
   "cell_type": "code",
   "execution_count": 34,
   "metadata": {},
   "outputs": [
    {
     "name": "stdout",
     "output_type": "stream",
     "text": [
      "hell\n"
     ]
    }
   ],
   "source": [
    "# opening file with abslute path \n",
    "f1 = open(\"D:\\\\ITI_Embedded_Linux\\\\01-Python\\\\02-Lec2\\\\file1.txt\", \"r\")    # open a new file to read it \n",
    "# print(f1.read())\n",
    "print(f1.read(4))   # read the first four char\n"
   ]
  },
  {
   "cell_type": "code",
   "execution_count": 42,
   "metadata": {},
   "outputs": [
    {
     "name": "stdout",
     "output_type": "stream",
     "text": [
      "hello \n",
      "\n",
      "from\n",
      "\n",
      "file1.txt\n",
      "\n",
      "\n",
      "\n",
      "\n",
      "\n",
      "\n",
      "\n",
      "['hello \\n', 'from\\n', 'file1.txt']\n"
     ]
    }
   ],
   "source": [
    "# reading file line by line \n",
    "f1 = open(\"file1.txt\" , \"r\")    # open a new file to read it \n",
    "print(f1.readline())\n",
    "print(f1.readline())\n",
    "print(f1.readline())\n",
    "print(f1.readline())\n",
    "print(f1.readline())\n",
    "print(f1.readline())\n",
    "print(f1.readline())\n",
    "print(f1.readline())\n",
    "print(f1.readline())\n",
    "print(f1.readline())\n",
    "f1.close()\n",
    "f1 = open(\"file1.txt\" , \"r\")    # open a new file to read it \n",
    "\n",
    "print(f1.readlines(1000))\n"
   ]
  },
  {
   "cell_type": "code",
   "execution_count": 45,
   "metadata": {},
   "outputs": [
    {
     "name": "stdout",
     "output_type": "stream",
     "text": [
      "hello \n",
      "\n",
      "from\n",
      "\n",
      "file1.txt\n"
     ]
    }
   ],
   "source": [
    "# reading all of the file line by line \n",
    "f1 = open(\"file1.txt\" , \"r\")    # open a new file to read it \n",
    "\n",
    "for L in f1 :\n",
    "    print(L)"
   ]
  },
  {
   "cell_type": "code",
   "execution_count": 51,
   "metadata": {},
   "outputs": [
    {
     "name": "stdout",
     "output_type": "stream",
     "text": [
      "hello \n",
      "\n",
      "from\n",
      "\n",
      "file1.txt\n",
      "hello \n",
      "\n",
      "from\n",
      "\n",
      "file1.txt\n"
     ]
    }
   ],
   "source": [
    "# Take care of reading file more than two times \n",
    "f1.close()\n",
    "\n",
    "f1 = open(\"file1.txt\" , \"r\")    # open a new file to read it \n",
    "\n",
    "for L in f1 :\n",
    "    print(L)\n",
    "# a new read is needed here \n",
    "f1 = open(\"file1.txt\" , \"r\")\n",
    "for L in f1 :\n",
    "    print(L)"
   ]
  },
  {
   "cell_type": "code",
   "execution_count": 13,
   "metadata": {},
   "outputs": [
    {
     "name": "stdout",
     "output_type": "stream",
     "text": [
      "\n"
     ]
    }
   ],
   "source": [
    "# don't forget to close the opend file because it's still loaded in the ram \n",
    "f1 = open(\"file1.txt\" , \"r\")    # open a new file to read it \n",
    "\n",
    "for L in f1 :\n",
    "    \n",
    "    print(f1.readline())\n",
    "\n",
    "\n",
    "f1.close()"
   ]
  },
  {
   "cell_type": "code",
   "execution_count": 54,
   "metadata": {},
   "outputs": [
    {
     "name": "stdout",
     "output_type": "stream",
     "text": [
      "Hello \n",
      "Hello Welcome \n",
      "Welcome \n",
      "Welcome \n",
      "Welcome \n",
      "Welcome \n",
      "Welcome \n",
      "\n"
     ]
    }
   ],
   "source": [
    "# Writing in a file \n",
    "f1 = open(\"file1.txt\" , \"w\")    # open a new file to write on it \n",
    "f1.write(\"Hello \")\n",
    "f1 = open(\"file1.txt\" , \"r\")    # open a new file to write on it \n",
    "print(f1.read())\n",
    "\n",
    "f1 = open(\"file1.txt\" , \"a\")    # open a new file to append it \n",
    "f1.write(\"Welcome \\n\")\n",
    "f1.write(\"Welcome \\n\")\n",
    "f1.write(\"Welcome \\n\")\n",
    "f1.write(\"Welcome \\n\")\n",
    "f1.write(\"Welcome \\n\")\n",
    "f1.write(\"Welcome \\n\")\n",
    "f1 = open(\"file1.txt\" , \"r\")    # open a new file to write on it \n",
    "\n",
    "print (f1.read())\n",
    "# f1 = open(\"file1.txt\" , \"r\")    # open a new file to read it \n",
    "# print (f1.read())"
   ]
  },
  {
   "cell_type": "code",
   "execution_count": 15,
   "metadata": {},
   "outputs": [],
   "source": [
    "# removing file \n",
    "import os\n",
    "f1.close()  # closing of the file is needed \n",
    "os.remove(\"file1.txt\")"
   ]
  },
  {
   "cell_type": "code",
   "execution_count": 58,
   "metadata": {},
   "outputs": [
    {
     "name": "stdout",
     "output_type": "stream",
     "text": [
      "['Hello', 'Welcome']\n",
      "['Welcome']\n",
      "['Welcome']\n",
      "['Welcome']\n",
      "['Welcome']\n",
      "['Welcome']\n",
      "[['Hello', 'Welcome'], ['Welcome'], ['Welcome'], ['Welcome'], ['Welcome'], ['Welcome']]\n"
     ]
    }
   ],
   "source": [
    "\n",
    "## adding file contents into global variable \n",
    "f2 = open(\"file1.txt\" , \"r\")\n",
    "\n",
    "Glob_data = []\n",
    "\n",
    "for L in f2:\n",
    "    global Glob_data\n",
    "    data = L.split()\n",
    "    Glob_data.append(data)\n",
    "for L2 in Glob_data:\n",
    "    print (L2) \n",
    "\n",
    "print(Glob_data)\n",
    "\n",
    "f2.close()\n",
    "\n"
   ]
  },
  {
   "cell_type": "markdown",
   "metadata": {},
   "source": [
    "# CSV comma seperated file "
   ]
  },
  {
   "cell_type": "code",
   "execution_count": 61,
   "metadata": {},
   "outputs": [
    {
     "name": "stdout",
     "output_type": "stream",
     "text": [
      "{'UART': {'clk': 'Async', 'type': 'PeerToPeer'}, 'SPI': {'clk': 'Synch', 'type': 'SingleMasterMultiSlave'}, 'I2C': {'clk': 'Synch', 'type': 'SingleMasters'}}\n"
     ]
    }
   ],
   "source": [
    "import csv\n",
    "\n",
    "Data = csv.reader(open(\"names.csv\" , \"r\"))\n",
    "# print(Data)\n",
    "dict_1 = {}\n",
    "\n",
    "for line in Data:\n",
    "    dict_1[line[0]] = {'clk':line[1] ,'type':line[2]  }\n",
    "\n",
    "print(dict_1)"
   ]
  },
  {
   "cell_type": "markdown",
   "metadata": {},
   "source": [
    "# Configurators "
   ]
  },
  {
   "cell_type": "code",
   "execution_count": 65,
   "metadata": {},
   "outputs": [],
   "source": [
    "#Open file in read write operation\n",
    "File = open(\"init.c\",\"w+\")\n",
    "File.write(\"void Init_PORTA_DIR (void)\\n{\\n\")\n",
    "i = 0\n",
    "DDRA = ''\n",
    "while i < 8:\n",
    "\n",
    "\tValue = input(\"Please enter Bit \" + str(i) + ' mode: ')\n",
    "\tValue = Value.lower()\n",
    "\tif Value == 'in':\n",
    "\t\tDDRA += '0'\n",
    "\telif Value == 'out':\n",
    "\t\tDDRA += '1'\n",
    "\telse:\n",
    "\t\tprint(\"Wrong Option, please try again later\")\n",
    "\t\tbreak \n",
    "\ti += 1\n",
    "\n",
    "DDRA = '0b' + DDRA\n",
    "File.write(\"\tDDRA = \" + DDRA)\n",
    "File.write(\";\\n}\")\n",
    "File.close()\n",
    "\n",
    "\n",
    "\n",
    "File.close()"
   ]
  },
  {
   "cell_type": "markdown",
   "metadata": {},
   "source": [
    "# exception handling \n",
    "\n",
    "- try       :      run the code here and if contains issue \n",
    "\n",
    "- except    :      Exception code incase of try contains error \n",
    "\n",
    "- else      :      Run this code if no except occur \n",
    "\n",
    "- finally   :      The code will run in any way \n"
   ]
  },
  {
   "cell_type": "code",
   "execution_count": 1,
   "metadata": {},
   "outputs": [
    {
     "ename": "ValueError",
     "evalue": "invalid literal for int() with base 10: 'Alaa'",
     "output_type": "error",
     "traceback": [
      "\u001b[1;31m---------------------------------------------------------------------------\u001b[0m",
      "\u001b[1;31mValueError\u001b[0m                                Traceback (most recent call last)",
      "\u001b[1;32md:\\ITI_Embedded_Linux\\01-Python\\02-Lec2\\Lec24.ipynb Cell 67\u001b[0m in \u001b[0;36m<cell line: 4>\u001b[1;34m()\u001b[0m\n\u001b[0;32m      <a href='vscode-notebook-cell:/d%3A/ITI_Embedded_Linux/01-Python/02-Lec2/Lec24.ipynb#Y116sZmlsZQ%3D%3D?line=0'>1</a>\u001b[0m \u001b[39mdef\u001b[39;00m \u001b[39mErrornousFunc\u001b[39m(Data):\n\u001b[0;32m      <a href='vscode-notebook-cell:/d%3A/ITI_Embedded_Linux/01-Python/02-Lec2/Lec24.ipynb#Y116sZmlsZQ%3D%3D?line=1'>2</a>\u001b[0m     \u001b[39mprint\u001b[39m(\u001b[39mint\u001b[39m(Data))\n\u001b[1;32m----> <a href='vscode-notebook-cell:/d%3A/ITI_Embedded_Linux/01-Python/02-Lec2/Lec24.ipynb#Y116sZmlsZQ%3D%3D?line=3'>4</a>\u001b[0m ErrornousFunc(\u001b[39m\"\u001b[39;49m\u001b[39mAlaa\u001b[39;49m\u001b[39m\"\u001b[39;49m)\n",
      "\u001b[1;32md:\\ITI_Embedded_Linux\\01-Python\\02-Lec2\\Lec24.ipynb Cell 67\u001b[0m in \u001b[0;36mErrornousFunc\u001b[1;34m(Data)\u001b[0m\n\u001b[0;32m      <a href='vscode-notebook-cell:/d%3A/ITI_Embedded_Linux/01-Python/02-Lec2/Lec24.ipynb#Y116sZmlsZQ%3D%3D?line=0'>1</a>\u001b[0m \u001b[39mdef\u001b[39;00m \u001b[39mErrornousFunc\u001b[39m(Data):\n\u001b[1;32m----> <a href='vscode-notebook-cell:/d%3A/ITI_Embedded_Linux/01-Python/02-Lec2/Lec24.ipynb#Y116sZmlsZQ%3D%3D?line=1'>2</a>\u001b[0m     \u001b[39mprint\u001b[39m(\u001b[39mint\u001b[39;49m(Data))\n",
      "\u001b[1;31mValueError\u001b[0m: invalid literal for int() with base 10: 'Alaa'"
     ]
    }
   ],
   "source": [
    "def ErrornousFunc(Data):\n",
    "    print(int(Data))\n",
    "\n",
    "ErrornousFunc(\"Alaa\")  #Will produce error "
   ]
  },
  {
   "cell_type": "code",
   "execution_count": null,
   "metadata": {},
   "outputs": [],
   "source": []
  },
  {
   "cell_type": "code",
   "execution_count": 2,
   "metadata": {},
   "outputs": [
    {
     "name": "stdout",
     "output_type": "stream",
     "text": [
      "Not accepted input\n"
     ]
    }
   ],
   "source": [
    "def ErrornousFunc(Data):\n",
    "    print(int(Data))\n",
    "try:\n",
    "    ErrornousFunc(\"Alaa\")  #Will produce error \n",
    "except:\n",
    "    print(\"Not accepted input\")"
   ]
  },
  {
   "cell_type": "code",
   "execution_count": null,
   "metadata": {},
   "outputs": [],
   "source": [
    "def returnInt(Data):\n",
    "    print(int(Data))\n",
    "try:\n",
    "    returnInt(\"AbC\")  #Will produce error \n",
    "except:\n",
    "    print(\"Not accepted input\")\n",
    "else :\n",
    "    print(\"Hello From else block\")   # No error occurs \n",
    "finally:\n",
    "    print(\"Thanks\")\n",
    "\n"
   ]
  },
  {
   "cell_type": "code",
   "execution_count": null,
   "metadata": {},
   "outputs": [],
   "source": [
    "# we can hadle exceptions with error name \n",
    "try:\n",
    "    print(z)     \n",
    "except NameError:     \n",
    "    print(\"Z not identified\")\n"
   ]
  },
  {
   "cell_type": "code",
   "execution_count": null,
   "metadata": {},
   "outputs": [],
   "source": [
    "# enforced exception raising \n",
    "\n",
    "x = 0 \n",
    "if x ==0:\n",
    "    raise Exception (\"Erro x = 0\")"
   ]
  },
  {
   "cell_type": "markdown",
   "metadata": {},
   "source": [
    "# Python architecture \n",
    "- bindig : linking between variable value in memory and the variable \n",
    "- python based on object reference \n",
    "- the binding to the variable is changed once the variable bindded to another variable \n",
    "- in , float , bool , tuble are mutable objects \n",
    "- binding can not be braked by .append function\n",
    "- garbage collector responsible for clearing of the broken un bindded memory sections which save memory location \n",
    "- id() :Return the “identity” of an object. This is an integer which is guaranteed to be unique and constant for this object during its lifetime.\n",
    "\n",
    "```\n",
    "   c_int \n",
    " ___________\n",
    "|           |   0x22940d0   This is what id() returns\n",
    "| metadata  | \n",
    "|           | \n",
    "|           | \n",
    "|           | \n",
    "|           | \n",
    "|___________| \n",
    "|   value   |   0x22940f8   This is what addressof() returns \n",
    "|___________| ```\n",
    "\n",
    "* The metadata in a Python object takes up space. Because of this, that 4-byte value probably won't live at the very beginning of the Python object.\n",
    "\n"
   ]
  },
  {
   "cell_type": "code",
   "execution_count": null,
   "metadata": {},
   "outputs": [],
   "source": [
    "# Notes about python \n",
    "# Every thing in python is object \n",
    "# The variables are refered to the value \n",
    "\n",
    "a = [1 , 2 , 3]\n",
    "b = a\n",
    "# The variables are refered to the value\n",
    "print(b)\n",
    "a.append(1000)\n",
    "print(\"b1 = \" , b)\n",
    "print(\"a1 = \",a)\n",
    "print(id(a))\n",
    "print(id(b))\n",
    "\n",
    "# what to do if we need a just copy \n",
    "a = [1 , 2 , 3]\n",
    "b = a.copy()\n",
    "a.append(1000)\n",
    "print(\"b2 = \",b)\n",
    "print(\"a2 = \",a)\n",
    "\n",
    "# This identity has to be unique and constant for this object during the lifetime\n",
    "# memory address of an object in Python\n",
    "\n",
    "# import addressof and c_int modules \n",
    "# from ctypes module\n",
    "from ctypes import c_int, addressof\n",
    "a = 10 \n",
    "# get memory address of variable\n",
    "print(addressof(c_int(a)))\n",
    "print(id(a))\n",
    "\n",
    "# del a\n",
    "# print(id(a)) # will return error "
   ]
  },
  {
   "cell_type": "code",
   "execution_count": null,
   "metadata": {},
   "outputs": [],
   "source": [
    "file = open(\"search.txt\")\n",
    "print(file.read())\n",
    "search_word = input(\"enter a word you want to search in file: \")\n",
    "if(search_word in file.read()):\n",
    "    print(\"word found\")\n",
    "else:\n",
    "    print(\"word not found\")"
   ]
  },
  {
   "cell_type": "code",
   "execution_count": null,
   "metadata": {},
   "outputs": [],
   "source": [
    "My_dict=dict()\n",
    "\n",
    "def AddEmp():\n",
    "    Name=input(\"please enter your name\")\n",
    "    Id=input(\"please enter your ID\")\n",
    "    File = open (\"emp.txt\",'w')\n",
    "    string=(\"@\"+Name+\".\"+\"  \"+\"#\"+Id+\"*\")\n",
    "    File.write(string)\n",
    "    \n",
    "    print(\"ID of\"+str(Name)+\"  \"+'='+str(Id))\n",
    "    My_dict[Id] = Name \n",
    "    File.close()\n",
    "\n",
    "def PrintEmp():\n",
    "\n",
    "\tglobal my_dict\n",
    "\tName=input (\"enter the emp name \")\n",
    "\n",
    "\tif Name in my_dict.keys():\n",
    "\n",
    "\t\tId_emp=My_dict[Name]\n",
    "\n",
    "\t\tprint(\"ID of\"+str(Name)+\"  \"+'='+str(Id_emp)+'.')\n",
    "\n",
    "\n",
    "def LoadDataBase():\n",
    "\n",
    "    global my_dict \n",
    "\n",
    "    string=\"x\"\n",
    "\n",
    "    while string!=\"\":    \n",
    "        File = open (\"emp.txt\",'r')\n",
    "\n",
    "        string=File.readline()\n",
    "\n",
    "        Name=string[string.find(\"\")+1:string.rfind(\".\")]\n",
    "        Id=string[string.find(\"#\")+1:string.rfind(\"*\")]\n",
    "        print(Name)\n",
    "        print(Id)\n",
    "        break\n",
    "        #print(Name)\n",
    "       # Id=string[Name]\n",
    "       # print(Id)\n",
    "\n",
    "\n",
    "AddEmp()\n",
    "\n",
    "LoadDataBase()\n",
    "print(My_dict)"
   ]
  },
  {
   "cell_type": "code",
   "execution_count": null,
   "metadata": {},
   "outputs": [],
   "source": [
    "from time import sleep\n",
    "\n",
    "# to show loading dots .....\n",
    "def loading ():\n",
    "\tprint(\"\")\n",
    "\tprint(\"LOADING\")\n",
    "\tfor i in range(1,30):\n",
    "\t\tprint('.', end='',flush=True)\n",
    "\t\tsleep(.1) \n",
    "\tprint(\"\")\t\t\n",
    "\n",
    "\n",
    "# adding a dict which contains HR users and password \n",
    "Hr_members={'alaa':1234,'ahmed':5678,'ebrahim':9101}\n",
    "\n",
    "new_dict=dict()\n",
    "# set count as 1 to enfoce starting of the code \n",
    "count=1\n",
    "while(count>0):\n",
    "\tprint(\"___________________welcome to the company system_________________________\")\n",
    "# update the count \n",
    "\tcount=select=int(input (\"to access Hr system press 1\\nto access employ system press 5\\nto exit press 0\\nYour choise is :\"))\n",
    "\t# exit \n",
    "\tif (count==0):\n",
    "\t\tprint(\"______________________________Thank u__________________________________\\n\\n\")\n",
    "\t\tbreak\n",
    "# acessing employ system \n",
    "\tif (select==1):\n",
    "\t\t\n",
    "\t\t# enforcr loop starting\n",
    "\t\tx=y=3\n",
    "\t\twhile(x>0):\n",
    "\t\t\t# need Hr acess rights \n",
    "\t\t\tHr_name=str(input(\"please enter your user name:\"))\n",
    "\t\t\tHr_name=Hr_name.lower()\n",
    "\t\t\tHr_name=Hr_name.strip()\n",
    "\t\t\ty=3\n",
    "\t\t\t# maximum time of 3 then get out from this loop \n",
    "\t\t\twhile(y>0):\t\n",
    "\t\t\t\tif Hr_name in Hr_members:\n",
    "\t\t\t\t\tHr_Pass=int (input(\"please enter your password\"))\n",
    "\t\t\t\t\n",
    "\t\t\t\t\tif Hr_Pass ==Hr_members[Hr_name] :\n",
    "\t\t\t\t\t\n",
    "\t\t\t\t\t\tprint(f\"_____________________welcome mr {Hr_name} to HR system__________________\")\n",
    "\t\t\t\t\t\t# able to acrss hr system now \n",
    "\t\t\t\t\t\tcount=2\n",
    "\t\t\t\t\t\ty=x=0\n",
    "\t\t\t\t\telse:\n",
    "\t\t\t\t\t\tprint(f\"in correct password try again!!\")\n",
    "\t\t\t\t\t\ty=y-1\n",
    "\t\t\t\telse:\n",
    "\t\t\t\t\tprint(f\"incorrect user name\")\n",
    "\t\t\t\t\ty=0\n",
    "\n",
    "\t\t\t\t\n",
    "\t\t\t\t\n",
    "\t# HR system accessable after valid user and pass \t\t\t\n",
    "\twhile(count==2):\n",
    "\t\t#print(\"______________________________________HR System __________________________________\\n\\n\")\t\n",
    "\t\tcount=int (input(\"to enter employ data press 2: \\nto clear employ data press 3: \\nto see all emp data press 4:\\nto back press1\\nYour select is : \"))\n",
    "\t\t# enter employ data \n",
    "\t\tif (count==2):\n",
    "\t\t\tnew_dict1= dict()\n",
    "\t\t\tID=(input(\"please enter your emp id : \"))\n",
    "\t\t\tname= (input(\"please enter your emp  name : \"))\n",
    "\t\t\tsallary= (input(\"please enter your emp  sallary : \"))\n",
    "\t\t    # dict of of keu id contains  dict \n",
    "\t\t\tnew_dict[ID]=new_dict1\n",
    "\t\t\tnew_dict1['sallary']=sallary\n",
    "\t\t\tnew_dict1['name']=name\n",
    "\t\t\t# show dot lines \n",
    "\t\t\tloading ()   \t\n",
    "\t\t\tprint(\"element added succesfuly\")\t\t\n",
    "\t\t\n",
    "\t\t\n",
    "\t\t# clr emp data \n",
    "\t\tif (count==3):\n",
    "\t\t\trejected_member_id=(input(\"enter the ID of emp u want to reject\"))\n",
    "\t\t\tif rejected_member_id in new_dict:\n",
    "\n",
    "\t\t\t\tdel new_dict[rejected_member_id]\n",
    "\t\t\t\t#Hr_members[id].clear(rejected_member)\n",
    "\t\t\t\t#Hr_members[id].clear(rejected_member)\n",
    "\t\t\t\t\n",
    "\t\t\telse :\n",
    "\t\t\t \tprint(\"Sorry no member match \" ,rejected_member_id)\n",
    "\t\t\tcount=2\n",
    "\t\telif count==4:\n",
    "\t\t\t\n",
    "\t\t\tloading ()\n",
    "\t\t\t# showing new employ \n",
    "\t\t\tprint(new_dict)\n",
    "\t\t\tcount=2\n",
    "\tif count==5:\n",
    "\t\temp_id=int(input (\"please enter your id\"))\n",
    "\t\tloading ()\n",
    "\t\tif emp_id in new_dict:\n",
    "\t\t\tloading ()\n",
    "\t\t\tprint(\" \")\n",
    "\t\t\tprint(f\"your data is :{new_dict[emp_id]}\")\n",
    "\t\telse:\n",
    "\t\t\tprint(f\"your ID:{emp_id} don't exist\")\n",
    "\t\t\t\n",
    "\t\t"
   ]
  },
  {
   "cell_type": "code",
   "execution_count": null,
   "metadata": {},
   "outputs": [],
   "source": [
    "my_fruit_tuple=(\"apple\",\"banana\",\"watermelon\")\n",
    "\n",
    "my_cost_tuple=(10,7,20)\n",
    "consumer_number=[]\n",
    "consumer_list=[]\n",
    "consumer_cost=[]\n",
    "selector=int(input(\"to creat order press 1: \\nto print order press 2:\\nto exit press 3:\"))\n",
    "y=1\n",
    "z=1;\n",
    "z=0\n",
    "while(selector>0):\n",
    "\twhile(y>0):\n",
    "\t\tconsumer_number.append(z)\n",
    "\t\tselected_fruit=input(\"enter your fruit:\")\n",
    "\t\t\n",
    "\t\tselected_fruit_quantity=float(input(\"enter your quantity:\"))\n",
    "\t\tmy_cost_tuple_counter =0\n",
    "\n",
    "\t\tfor i in my_fruit_tuple:\n",
    "\t\t\tif (i==selected_fruit) :\n",
    "\t\t\t\tconsumer_list.append(i)\n",
    "\t\t\t\tconsumer_cost.append( my_cost_tuple[my_cost_tuple_counter] *(int(selected_fruit_quantity)))\n",
    "\t\t\t\tmy_cost_tuple_counter+=1\n",
    "\t\t\t\tbreak\n",
    "\t\telse :\n",
    "\t\t\tprint(f\"sorry your {selected_fruit} fruit dosent exist\")\n",
    "\t\t\tz=z-1\t\t\t\t\n",
    "\t\tz+=1\t\t\t\n",
    "\t\tmy_cost_tuple_counter=0\n",
    "\t\ty=int(input (\"TO ADD ELEMENT--> press 1 \\nTO EXIT --> press 0 \\n\"))\n",
    "\t\t\n",
    "\t\n",
    "\t\t\t#x=my_fruit_tuple.index(\"apple\")\n",
    "\t\t\t\n",
    "\t\t\t#consumer_cost.append(my_cost_tuple(my_fruit_tuple.index(i))*selected_fruit_quantity)\n",
    "\tselector=int(input(\"to creat order press 1: \\nto print order press 2:\\nto exit press 3:\"))\n",
    "\n",
    "\tif (selector==2):\n",
    "\t\tprint (\"_______THANK U_____\")\n",
    "\t\tprint (\"_______You bought_____\")\n",
    "\t\tprint (consumer_list)\n",
    "\t\tprint (\"_______respectively cost_____\")\n",
    "\t\tprint (consumer_cost)\n",
    "\t\ttotal_cost=0\n",
    "\t\tfor j in range (z):\n",
    "\t\t\ttotal_cost+=consumer_cost[j]\n",
    "\t\tprint (\"_______TOtal cost_____\")\n",
    "\t\tprint (f\"total cost ={total_cost}\")\n",
    "\t\tprint (\"__Let we see u again!__\")\n",
    "\ttotal_cost=0\n",
    "\t\t\t"
   ]
  },
  {
   "cell_type": "code",
   "execution_count": null,
   "metadata": {},
   "outputs": [],
   "source": [
    "\n",
    "my_dict=dict()\n",
    "\n",
    "def AddEmp():\n",
    "\tglobal my_dict\n",
    "\tName=input(\"please enter your name \")\n",
    "\tId=input(\"please enter your ID \")\n",
    "\tFile = open (\"emp.txt\",'w')\n",
    "\tstring=(\"@\"+str(Name)+\".\"+\"  \"+\"#\"+str(Id))\n",
    "\tFile.write(string)\n",
    "\tmy_dict[Name] = Id\n",
    "\tFile.close()\n",
    "\n",
    "\n",
    "\n",
    "def PrintEmp():\n",
    "\n",
    "\tglobal my_dict\n",
    "\tName=input (\"enter the emp name \")\n",
    "\n",
    "\tif Name in my_dict.keys():\n",
    "\n",
    "\t\tId_emp=my_dict[Name]\n",
    "\n",
    "\t\tprint(\"ID of\"+str(Name)+\"  \"+'='+str(Id_emp))\n",
    "\n",
    "\n",
    "def LoadDataBase():\n",
    "\tglobal my_dict \n",
    "\tstring=\"x\"\n",
    "\tFile=open(\"emp.txt\",'r+')\n",
    "\twhile string !=\"\" :\t\t\t\n",
    "\t\tstring=File.readline()\n",
    "\t\tprint(string)\n",
    "\t\tName=string[string.find(\"@\")+1:string.rfind(\".\")]\n",
    "\t\tprint(Name)\n",
    "\n",
    "AddEmp()\n",
    "PrintEmp()\n",
    "#LoadDataBase()"
   ]
  }
 ],
 "metadata": {
  "kernelspec": {
   "display_name": "Python 3.9.1rc1 64-bit",
   "language": "python",
   "name": "python3"
  },
  "language_info": {
   "codemirror_mode": {
    "name": "ipython",
    "version": 3
   },
   "file_extension": ".py",
   "mimetype": "text/x-python",
   "name": "python",
   "nbconvert_exporter": "python",
   "pygments_lexer": "ipython3",
   "version": "3.9.1"
  },
  "orig_nbformat": 4,
  "vscode": {
   "interpreter": {
    "hash": "43623726d6407856152d67d5465a38392b5160cd189b98f2f24e14daccd05be9"
   }
  }
 },
 "nbformat": 4,
 "nbformat_minor": 2
}
